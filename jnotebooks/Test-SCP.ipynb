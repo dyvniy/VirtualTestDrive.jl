{
 "cells": [
  {
   "cell_type": "code",
   "execution_count": null,
   "metadata": {
    "collapsed": false
   },
   "outputs": [],
   "source": [
    "using VirtualTestDrive"
   ]
  },
  {
   "cell_type": "code",
   "execution_count": null,
   "metadata": {
    "collapsed": false
   },
   "outputs": [],
   "source": [
    "connection = ViresConnection()"
   ]
  },
  {
   "cell_type": "code",
   "execution_count": null,
   "metadata": {
    "collapsed": false
   },
   "outputs": [],
   "source": [
    "# VirtualTestDrive.disconnect!(connection)"
   ]
  },
  {
   "cell_type": "code",
   "execution_count": null,
   "metadata": {
    "collapsed": false
   },
   "outputs": [],
   "source": [
    "scenario = \"/home/eric/Downloads/VTD.2.0/Data/Projects/Default/Scenarios/trafficDemoPath.xml\"\n",
    "mode = :operation\n",
    "msg = SCPMessage(VirtualTestDrive.get_xml_simctrl_load_init(scenario, mode))\n",
    "write(connection.SCP, msg)"
   ]
  },
  {
   "cell_type": "code",
   "execution_count": null,
   "metadata": {
    "collapsed": false
   },
   "outputs": [],
   "source": [
    "connection = ViresConnection()\n",
    "completed = VirtualTestDrive.wait_for_packet_with_element(connection.SCP, \"Traffic\",\"ActionLaneChange\";timeout=100.0)"
   ]
  },
  {
   "cell_type": "code",
   "execution_count": null,
   "metadata": {
    "collapsed": false
   },
   "outputs": [],
   "source": [
    "connection = ViresConnection()\n",
    "completed = VirtualTestDrive.wait_for_packet_with_element(connection.SCP, \"SimCtrl\",\"Pause\";timeout=100.0)"
   ]
  },
  {
   "cell_type": "code",
   "execution_count": null,
   "metadata": {
    "collapsed": false
   },
   "outputs": [],
   "source": [
    "connection = ViresConnection()\n",
    "completed = VirtualTestDrive.wait_for_packet_with_element(connection.SCP, \"SimCtrl\",\"Sync\";timeout=100.0)"
   ]
  },
  {
   "cell_type": "code",
   "execution_count": null,
   "metadata": {
    "collapsed": false
   },
   "outputs": [],
   "source": [
    "write(connection.SCP,\"<Traffic><ActionLaneChange force=\\\"true\\\" actor=\\\"Ego\\\" direction=\\\"-1\\\" time=\\\"3\\\" force=\\\"true\\\" /></Traffic>\")"
   ]
  },
  {
   "cell_type": "code",
   "execution_count": null,
   "metadata": {
    "collapsed": false
   },
   "outputs": [],
   "source": [
    "payload=\"<Traffic><ActionLaneChange force=\\\"true\\\" actor=\\\"Ego\\\" direction=\\\"1\\\" time=\\\"3\\\" /></Traffic>\"\n",
    "message=SCPMessage(payload)"
   ]
  },
  {
   "cell_type": "code",
   "execution_count": null,
   "metadata": {
    "collapsed": false
   },
   "outputs": [],
   "source": [
    "payload=\"<Traffic><ActionLaneChange force=\\\"true\\\" actor=\\\"Ego\\\" direction=\\\"-1\\\" time=\\\"3\\\" /></Traffic>\"\n",
    "message=SCPMessage(payload)"
   ]
  },
  {
   "cell_type": "code",
   "execution_count": null,
   "metadata": {
    "collapsed": false
   },
   "outputs": [],
   "source": [
    "payload=\"<Traffic><ActionSpeedChange force=\\\"true\\\" actor=\\\"Ego\\\" target=\\\"20\\\" rate=\\\"5\\\" /></Traffic>\"\n",
    "message=SCPMessage(payload)"
   ]
  },
  {
   "cell_type": "code",
   "execution_count": null,
   "metadata": {
    "collapsed": false
   },
   "outputs": [],
   "source": [
    "payload=\"<Traffic><ActionSpeedChange force=\\\"true\\\" actor=\\\"Ego\\\" target=\\\"0\\\" rate=\\\"5\\\" /></Traffic>\"\n",
    "message=SCPMessage(payload)"
   ]
  },
  {
   "cell_type": "code",
   "execution_count": null,
   "metadata": {
    "collapsed": false
   },
   "outputs": [],
   "source": [
    "write(connection.SCP, message)"
   ]
  },
  {
   "cell_type": "code",
   "execution_count": null,
   "metadata": {
    "collapsed": true
   },
   "outputs": [],
   "source": []
  }
 ],
 "metadata": {
  "anaconda-cloud": {},
  "kernelspec": {
   "display_name": "Julia 0.5.0",
   "language": "julia",
   "name": "julia-0.5"
  },
  "language_info": {
   "file_extension": ".jl",
   "mimetype": "application/julia",
   "name": "julia",
   "version": "0.5.0"
  }
 },
 "nbformat": 4,
 "nbformat_minor": 1
}
