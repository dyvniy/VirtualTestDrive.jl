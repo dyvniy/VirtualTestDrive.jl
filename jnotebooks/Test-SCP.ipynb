{
 "cells": [
  {
   "cell_type": "code",
   "execution_count": 1,
   "metadata": {
    "collapsed": false
   },
   "outputs": [
    {
     "name": "stderr",
     "output_type": "stream",
     "text": [
      "\u001b[1m\u001b[31mWARNING: `@linux` is deprecated, use `@static is_linux()` instead\u001b[0m\n",
      " in depwarn(::String, ::Symbol) at ./deprecated.jl:64\n",
      " in @linux(::Any, ::Any) at ./deprecated.jl:484\n",
      " in include_from_node1(::String) at ./loading.jl:488 (repeats 2 times)\n",
      " in eval(::Module, ::Any) at ./boot.jl:234\n",
      " in require(::Symbol) at ./loading.jl:415\n",
      " in include_string(::String, ::String) at ./loading.jl:441\n",
      " in execute_request(::ZMQ.Socket, ::IJulia.Msg) at /home/eric/.julia/v0.5/IJulia/src/execute_request.jl:157\n",
      " in eventloop(::ZMQ.Socket) at /home/eric/.julia/v0.5/IJulia/src/eventloop.jl:8\n",
      " in (::IJulia.##13#19)() at ./task.jl:360\n",
      "while loading /home/eric/.julia/v0.5/VirtualTestDrive/src/system.jl, in expression starting on line 1\n"
     ]
    }
   ],
   "source": [
    "using VirtualTestDrive"
   ]
  },
  {
   "cell_type": "code",
   "execution_count": 2,
   "metadata": {
    "collapsed": false
   },
   "outputs": [
    {
     "data": {
      "text/plain": [
       "VirtualTestDrive.ViresConnection(TCPSocket(open, 0 bytes waiting),TCPSocket(open, 0 bytes waiting),false,0x00000000)"
      ]
     },
     "execution_count": 2,
     "metadata": {},
     "output_type": "execute_result"
    }
   ],
   "source": [
    "connection = ViresConnection()"
   ]
  },
  {
   "cell_type": "code",
   "execution_count": 10,
   "metadata": {
    "collapsed": false
   },
   "outputs": [],
   "source": [
    "VirtualTestDrive.disconnect!(connection)"
   ]
  },
  {
   "cell_type": "code",
   "execution_count": null,
   "metadata": {
    "collapsed": false
   },
   "outputs": [],
   "source": [
    "# VirtualTestDrive.disconnect!(connection)"
   ]
  },
  {
   "cell_type": "code",
   "execution_count": 17,
   "metadata": {
    "collapsed": false
   },
   "outputs": [
    {
     "name": "stdout",
     "output_type": "stream",
     "text": [
      "READING\n",
      "TaskControl -> SCP: \n",
      "\tPAYLOAD:      <Info level=\"debug\"><TaskState name=\"TaskControl\" state=\"pause\" version=\"4.2.0\"/> <TaskState name=\"ImageGenerator\" state=\"run\" version=\" 4.9.0.4135\"/> <TaskState name=\"Traffic\" state=\"pause\" version=\" 2.0.2.566\"/> <TaskState name=\"moduleManager\" state=\"run\" version=\"4.2.0\"/> </Info>\n",
      "READING\n",
      "ModuleManager -> SCP: \n",
      "\tPAYLOAD:      <Info level=\"debug\"><TaskState name=\"moduleManager\" state=\"run\" version=\"4.2.0\"/> </Info>\n",
      "READING\n",
      "TaskControl -> SCP: \n",
      "\tPAYLOAD:      <Info level=\"debug\"><TaskState name=\"TaskControl\" state=\"pause\" version=\"4.2.0\"/> <TaskState name=\"ImageGenerator\" state=\"run\" version=\" 4.9.0.4135\"/> <TaskState name=\"Traffic\" state=\"pause\" version=\" 2.0.2.566\"/> <TaskState name=\"moduleManager\" state=\"run\" version=\"4.2.0\"/> </Info>\n",
      "READING\n",
      "ModuleManager -> SCP: \n",
      "\tPAYLOAD:      <Info level=\"debug\"><TaskState name=\"moduleManager\" state=\"run\" version=\"4.2.0\"/> </Info>\n",
      "READING\n",
      "TaskControl -> SCP: \n",
      "\tPAYLOAD:      <Info level=\"debug\"><TaskState name=\"TaskControl\" state=\"pause\" version=\"4.2.0\"/> <TaskState name=\"ImageGenerator\" state=\"run\" version=\" 4.9.0.4135\"/> <TaskState name=\"Traffic\" state=\"pause\" version=\" 2.0.2.566\"/> <TaskState name=\"moduleManager\" state=\"run\" version=\"4.2.0\"/> </Info>\n",
      "READING\n",
      "ModuleManager -> SCP: \n",
      "\tPAYLOAD:      <Info level=\"debug\"><TaskState name=\"moduleManager\" state=\"run\" version=\"4.2.0\"/> </Info>\n",
      "READING\n",
      "TaskControl -> SCP: \n",
      "\tPAYLOAD:      <Info level=\"debug\"><TaskState name=\"TaskControl\" state=\"pause\" version=\"4.2.0\"/> <TaskState name=\"ImageGenerator\" state=\"run\" version=\" 4.9.0.4135\"/> <TaskState name=\"Traffic\" state=\"pause\" version=\" 2.0.2.566\"/> <TaskState name=\"moduleManager\" state=\"run\" version=\"4.2.0\"/> </Info>\n",
      "READING\n",
      "ModuleManager -> SCP: \n",
      "\tPAYLOAD:      <Info level=\"debug\"><TaskState name=\"moduleManager\" state=\"run\" version=\"4.2.0\"/> </Info>\n",
      "READING\n",
      "TaskControl -> SCP: \n",
      "\tPAYLOAD:      <Info level=\"debug\"><TaskState name=\"TaskControl\" state=\"pause\" version=\"4.2.0\"/> <TaskState name=\"ImageGenerator\" state=\"run\" version=\" 4.9.0.4135\"/> <TaskState name=\"Traffic\" state=\"pause\" version=\" 2.0.2.566\"/> <TaskState name=\"moduleManager\" state=\"run\" version=\"4.2.0\"/> </Info>\n",
      "READING\n",
      "ModuleManager -> SCP: \n",
      "\tPAYLOAD:      <Info level=\"debug\"><TaskState name=\"moduleManager\" state=\"run\" version=\"4.2.0\"/> </Info>\n",
      "READING\n",
      "VT-GUI -> SCP: \n",
      "\tPAYLOAD:      <SimCtrl> <Project name=\"SampleProject2\" path=\"/home/eric/Downloads/VTD.2.0/Data/Projects/Current\" /> </SimCtrl>\n",
      "READING\n",
      "TaskControl -> SCP: \n",
      "\tPAYLOAD:      <SimCtrl> <Run currentState=\"3\"/> </SimCtrl>\n"
     ]
    }
   ],
   "source": [
    "connection = ViresConnection()\n",
    "completed = VirtualTestDrive.wait_for_packet_with_element(connection.SCP, \"SimCtrl\",\"Run\";timeout=100.0)\n",
    "VirtualTestDrive.disconnect!(connection)"
   ]
  },
  {
   "cell_type": "code",
   "execution_count": null,
   "metadata": {
    "collapsed": false
   },
   "outputs": [],
   "source": [
    "scenario = \"/home/eric/Downloads/VTD.2.0/Data/Projects/Default/Scenarios/trafficDemoPath.xml\"\n",
    "mode = :operation\n",
    "msg = SCPMessage(VirtualTestDrive.get_xml_simctrl_load_init(scenario, mode))\n",
    "write(connection.SCP, msg)"
   ]
  },
  {
   "cell_type": "code",
   "execution_count": null,
   "metadata": {
    "collapsed": false
   },
   "outputs": [],
   "source": [
    "connection = ViresConnection()\n",
    "completed = VirtualTestDrive.wait_for_packet_with_element(connection.SCP, \"Traffic\",\"ActionLaneChange\";timeout=100.0)"
   ]
  },
  {
   "cell_type": "code",
   "execution_count": null,
   "metadata": {
    "collapsed": false
   },
   "outputs": [],
   "source": [
    "connection = ViresConnection()\n",
    "completed = VirtualTestDrive.wait_for_packet_with_element(connection.SCP, \"SimCtrl\",\"Pause\";timeout=100.0)"
   ]
  },
  {
   "cell_type": "code",
   "execution_count": null,
   "metadata": {
    "collapsed": false
   },
   "outputs": [],
   "source": [
    "connection = ViresConnection()\n",
    "completed = VirtualTestDrive.wait_for_packet_with_element(connection.SCP, \"SimCtrl\",\"Sync\";timeout=100.0)"
   ]
  },
  {
   "cell_type": "code",
   "execution_count": null,
   "metadata": {
    "collapsed": false
   },
   "outputs": [],
   "source": [
    "write(connection.SCP,\"<Traffic><ActionLaneChange force=\\\"true\\\" actor=\\\"Ego\\\" direction=\\\"-1\\\" time=\\\"3\\\" force=\\\"true\\\" /></Traffic>\")"
   ]
  },
  {
   "cell_type": "code",
   "execution_count": null,
   "metadata": {
    "collapsed": false
   },
   "outputs": [],
   "source": [
    "payload=\"<Traffic><ActionLaneChange force=\\\"true\\\" actor=\\\"Ego\\\" direction=\\\"1\\\" time=\\\"3\\\" /></Traffic>\"\n",
    "message=SCPMessage(payload)"
   ]
  },
  {
   "cell_type": "code",
   "execution_count": null,
   "metadata": {
    "collapsed": false
   },
   "outputs": [],
   "source": [
    "payload=\"<Traffic><ActionLaneChange force=\\\"true\\\" actor=\\\"Ego\\\" direction=\\\"-1\\\" time=\\\"3\\\" /></Traffic>\"\n",
    "message=SCPMessage(payload)"
   ]
  },
  {
   "cell_type": "code",
   "execution_count": 3,
   "metadata": {
    "collapsed": false
   },
   "outputs": [
    {
     "data": {
      "text/plain": [
       "VirtualTestDrive.SCPMessage(VirtualTestDrive.SCPHeader(UInt8[0x53,0x43,0x50,0x00,0x00,0x00,0x00,0x00,0x00,0x00  …  0x00,0x00,0x00,0x00,0x00,0x00,0x00,0x00,0x00,0x00],UInt8[0x54,0x61,0x73,0x6b,0x43,0x6f,0x6e,0x74,0x72,0x6f  …  0x00,0x00,0x00,0x00,0x00,0x00,0x00,0x00,0x00,0x00],87),UInt8[0x3c,0x54,0x72,0x61,0x66,0x66,0x69,0x63,0x3e,0x3c  …  0x2f,0x54,0x72,0x61,0x66,0x66,0x69,0x63,0x3e,0x00])"
      ]
     },
     "execution_count": 3,
     "metadata": {},
     "output_type": "execute_result"
    }
   ],
   "source": [
    "payload=\"<Traffic><ActionSpeedChange force=\\\"true\\\" actor=\\\"Ego\\\" target=\\\"20\\\" rate=\\\"5\\\" /></Traffic>\"\n",
    "message=SCPMessage(payload)"
   ]
  },
  {
   "cell_type": "code",
   "execution_count": null,
   "metadata": {
    "collapsed": false
   },
   "outputs": [],
   "source": [
    "payload=\"<Traffic><ActionSpeedChange force=\\\"true\\\" actor=\\\"Ego\\\" target=\\\"0\\\" rate=\\\"5\\\" /></Traffic>\"\n",
    "message=SCPMessage(payload)"
   ]
  },
  {
   "cell_type": "code",
   "execution_count": 4,
   "metadata": {
    "collapsed": false
   },
   "outputs": [
    {
     "data": {
      "text/plain": [
       "87"
      ]
     },
     "execution_count": 4,
     "metadata": {},
     "output_type": "execute_result"
    }
   ],
   "source": [
    "write(connection.SCP, message)"
   ]
  },
  {
   "cell_type": "code",
   "execution_count": 19,
   "metadata": {
    "collapsed": false
   },
   "outputs": [],
   "source": [
    "connection = ViresConnection()       \n",
    "payload= \"<SimCtrl><Run currentState=\\\"3\\\"/></SimCtrl>\"\n",
    "SCPmessage=SCPMessage(payload)\n",
    "write(connection.SCP, SCPmessage)\n",
    "VirtualTestDrive.disconnect!(connection)"
   ]
  },
  {
   "cell_type": "code",
   "execution_count": null,
   "metadata": {
    "collapsed": true
   },
   "outputs": [],
   "source": []
  }
 ],
 "metadata": {
  "anaconda-cloud": {},
  "kernelspec": {
   "display_name": "Julia 0.5.0",
   "language": "julia",
   "name": "julia-0.5"
  },
  "language_info": {
   "file_extension": ".jl",
   "mimetype": "application/julia",
   "name": "julia",
   "version": "0.5.0"
  }
 },
 "nbformat": 4,
 "nbformat_minor": 1
}
