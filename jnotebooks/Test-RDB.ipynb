{
 "cells": [
  {
   "cell_type": "code",
   "execution_count": 1,
   "metadata": {
    "collapsed": false
   },
   "outputs": [
    {
     "name": "stderr",
     "output_type": "stream",
     "text": [
      "\u001b[1m\u001b[31mWARNING: `@linux` is deprecated, use `@static is_linux()` instead\u001b[0m\n",
      " in depwarn(::String, ::Symbol) at ./deprecated.jl:64\n",
      " in @linux(::Any, ::Any) at ./deprecated.jl:484\n",
      " in include_from_node1(::String) at ./loading.jl:488 (repeats 2 times)\n",
      " in eval(::Module, ::Any) at ./boot.jl:234\n",
      " in require(::Symbol) at ./loading.jl:415\n",
      " in include_string(::String, ::String) at ./loading.jl:441\n",
      " in execute_request(::ZMQ.Socket, ::IJulia.Msg) at /home/eric/.julia/v0.5/IJulia/src/execute_request.jl:157\n",
      " in eventloop(::ZMQ.Socket) at /home/eric/.julia/v0.5/IJulia/src/eventloop.jl:8\n",
      " in (::IJulia.##13#19)() at ./task.jl:360\n",
      "while loading /home/eric/.julia/v0.5/VirtualTestDrive/src/system.jl, in expression starting on line 1\n"
     ]
    }
   ],
   "source": [
    "using VirtualTestDrive"
   ]
  },
  {
   "cell_type": "code",
   "execution_count": null,
   "metadata": {
    "collapsed": false
   },
   "outputs": [],
   "source": [
    "connection = ViresConnection()"
   ]
  },
  {
   "cell_type": "code",
   "execution_count": 4,
   "metadata": {
    "collapsed": false
   },
   "outputs": [],
   "source": [
    " VirtualTestDrive.disconnect!(connection)"
   ]
  },
  {
   "cell_type": "code",
   "execution_count": null,
   "metadata": {
    "collapsed": false
   },
   "outputs": [],
   "source": [
    "scenario = \"/home/eric/Downloads/VTD.2.0/Data/Projects/Default/Scenarios/trafficDemoPath.xml\"\n",
    "mode = :operation\n",
    "msg = SCPMessage(VirtualTestDrive.get_xml_simctrl_load_init(scenario, mode))\n",
    "write(connection.SCP, msg)"
   ]
  },
  {
   "cell_type": "code",
   "execution_count": null,
   "metadata": {
    "collapsed": false
   },
   "outputs": [],
   "source": [
    "completed = VirtualTestDrive.wait_for_packet_with_element(connection.SCP, \"EgoCtrl\",\"Speed\",1000)"
   ]
  },
  {
   "cell_type": "code",
   "execution_count": null,
   "metadata": {
    "collapsed": false
   },
   "outputs": [],
   "source": [
    "message = read(connection.UDP,VirtualTestDrive.RDB_MSG_HDR_t)\n",
    "message.frameNo"
   ]
  },
  {
   "cell_type": "code",
   "execution_count": null,
   "metadata": {
    "collapsed": false
   },
   "outputs": [],
   "source": [
    "const UDP_PORT_tx = 48191\n",
    "UDPtx = connect(UDP_PORT_tx)\n",
    "start_time = time()\n",
    "timeout=10\n",
    "while !isopen(UDPtx) && time() - start_time < timeout\n",
    "    sleep(sleeptime)\n",
    "end"
   ]
  },
  {
   "cell_type": "code",
   "execution_count": null,
   "metadata": {
    "collapsed": true
   },
   "outputs": [],
   "source": [
    "close(UDPtx)"
   ]
  },
  {
   "cell_type": "code",
   "execution_count": null,
   "metadata": {
    "collapsed": false
   },
   "outputs": [],
   "source": [
    "message=read(connection.UDP,VirtualTestDrive.RDB_Package)"
   ]
  },
  {
   "cell_type": "code",
   "execution_count": null,
   "metadata": {
    "collapsed": false
   },
   "outputs": [],
   "source": [
    "connection=ViresConnection()\n",
    "message=read(connection.UDP,VirtualTestDrive.RDB_Package)\n",
    "VirtualTestDrive.write_udp_packet(connection.UDP, udp_entry, message.header.frameNo, message.header.simTime)\n",
    "VirtualTestDrive.disconnect!(connection)"
   ]
  },
  {
   "cell_type": "code",
   "execution_count": null,
   "metadata": {
    "collapsed": false
   },
   "outputs": [],
   "source": [
    "#connection=ViresConnection()\n",
    "message=read(connection.UDP,VirtualTestDrive.RDB_Message)\n"
   ]
  },
  {
   "cell_type": "code",
   "execution_count": 6,
   "metadata": {
    "collapsed": false
   },
   "outputs": [
    {
     "name": "stdout",
     "output_type": "stream",
     "text": [
      "(16 1671     66.800)\n",
      "RDB_MSG_ENTRY_HDR_t:\n",
      "   headerSize:  10\n",
      "   dataSize:    0\n",
      "   elementSize: 0\n",
      "   pkgId:       1\n",
      "   flags:       0\n",
      "\n",
      "(1120 1671     66.800)\n",
      "RDB_MSG_ENTRY_HDR_t:\n",
      "   headerSize:  10\n",
      "   dataSize:    450\n",
      "   elementSize: 450\n",
      "   pkgId:       8\n",
      "   flags:       0\n",
      "\n",
      "entry : RDB_OBJECT_CFG_t:\n",
      "   id:       1\n",
      "   category: 1\n",
      "   thetype:  1\n",
      "   modelId:  1\n",
      "   flags:    6745\n",
      "   spare0:   6f\n",
      "   spare1:   0\n",
      "\n",
      "(224 1671     66.800)\n",
      "RDB_MSG_ENTRY_HDR_t:\n",
      "   headerSize:  10\n",
      "   dataSize:    d0\n",
      "   elementSize: d0\n",
      "   pkgId:       9\n",
      "   flags:       1\n",
      "\n",
      "entry : RDB_OBJECT_STATE_t:\n",
      "   base: RDB_OBJECT_STATE_BASE_t\n",
      "   ext:  RDB_OBJECT_STATE_EXT_t\n",
      "\n",
      "(60 1671     66.800)\n",
      "RDB_MSG_ENTRY_HDR_t:\n",
      "   headerSize:  10\n",
      "   dataSize:    2c\n",
      "   elementSize: 2c\n",
      "   pkgId:       a\n",
      "   flags:       0\n",
      "\n",
      "entry : RDB_VEHICLE_SYSTEMS_t:\n",
      "   playerId:            1\n",
      "   lightMask:           0\n",
      "   steering:            +0.0000000000000000e+00\n",
      "   steeringWheelTorque: +0.0000000000000000e+00\n",
      "   accMask:             0\n",
      "   accSpeed:            0\n",
      "   batteryState:        0\n",
      "   batteryRate:         0\n",
      "   displayLightMask:    0\n",
      "   spare0:              0\n",
      "   spare:               (0, 0, 0, 0, 0)\n",
      "\n",
      "(44 1671     66.800)\n",
      "RDB_MSG_ENTRY_HDR_t:\n",
      "   headerSize:  10\n",
      "   dataSize:    1c\n",
      "   elementSize: 1c\n",
      "   pkgId:       b\n",
      "   flags:       0\n",
      "\n",
      "entry : RDB_VEHICLE_SETUP_t:\n",
      "   playerId:  1\n",
      "   mass:      +1.5600000000000000e+03\n",
      "   wheelBase: +2.5910000801086426e+00\n",
      "   spare:     (0, 0, 0, 0)\n",
      "\n",
      "(36 1671     66.800)\n",
      "RDB_MSG_ENTRY_HDR_t:\n",
      "   headerSize:  10\n",
      "   dataSize:    14\n",
      "   elementSize: 14\n",
      "   pkgId:       c\n",
      "   flags:       0\n",
      "\n",
      "entry : RDB_ENGINE_t:\n",
      "   base: RDB_ENGINE_BASE_t\n",
      "   ext:  RDB_ENGINE_EXT_t\n",
      "\n",
      "(104 1671     66.800)\n",
      "RDB_MSG_ENTRY_HDR_t:\n",
      "   headerSize:  10\n",
      "   dataSize:    58\n",
      "   elementSize: 58\n",
      "   pkgId:       12\n",
      "   flags:       0\n",
      "\n",
      "entry : RDB_CAMERA_t:\n",
      "   id:         1\n",
      "   width:      320\n",
      "   height:     258\n",
      "   spare0:     0\n",
      "   clipNear:   +1.0000000000000000e+00\n",
      "   clipFar:    +1.5000000000000000e+03\n",
      "   focalX:     +1.1196152343750000e+03\n",
      "   focalY:     +1.1196152343750000e+03\n",
      "   principalX: +4.0000000000000000e+02\n",
      "   principalY: +3.0000000000000000e+02\n",
      "   pos:        RDB_COORD_t\n",
      "   spare1:     (0, 0, 0, 0)\n",
      "\n",
      "(96 1671     66.800)\n",
      "RDB_MSG_ENTRY_HDR_t:\n",
      "   headerSize:  10\n",
      "   dataSize:    50\n",
      "   elementSize: 50\n",
      "   pkgId:       1a\n",
      "   flags:       0\n",
      "\n",
      "entry : RDB_DRIVER_CTRL_t:\n",
      "   playerId:        1\n",
      "   steeringWheel:   +0.0000000000000000e+00\n",
      "   steeringSpeed:   +0.0000000000000000e+00\n",
      "   throttlePedal:   +0.0000000000000000e+00\n",
      "   brakePedal:      +0.0000000000000000e+00\n",
      "   clutchPedal:     +0.0000000000000000e+00\n",
      "   accelTgt:        +0.0000000000000000e+00\n",
      "   steeringTgt:     +0.0000000000000000e+00\n",
      "   curvatureTgt:    +0.0000000000000000e+00\n",
      "   steeringTorque:  +0.0000000000000000e+00\n",
      "   engineTorqueTgt: +0.0000000000000000e+00\n",
      "   speedTgt:        +0.0000000000000000e+00\n",
      "   gear:            4\n",
      "   sourceId:        0\n",
      "   spare0:          (0, 0)\n",
      "   validityFlags:   40e2\n",
      "   flags:           0\n",
      "   mockupInput0:    0\n",
      "   mockupInput1:    0\n",
      "   mockupInput2:    0\n",
      "   spare:           0\n",
      "\n",
      "(64 1671     66.800)\n",
      "RDB_MSG_ENTRY_HDR_t:\n",
      "   headerSize:  10\n",
      "   dataSize:    30\n",
      "   elementSize: 30\n",
      "   pkgId:       1d\n",
      "   flags:       0\n",
      "\n",
      "entry : RDB_DRIVER_PERCEPTION_t:\n",
      "   playerId:       1\n",
      "   speedFromRules: +2.0000000000000000e+01\n",
      "   distToSpeed:    +0.0000000000000000e+00\n",
      "   spare0:         (0, 0, 0, 0)\n",
      "   flags:          0\n",
      "   spare:          (0, 0, 0, 0)\n",
      "\n",
      "(64 1671     66.800)\n",
      "RDB_MSG_ENTRY_HDR_t:\n",
      "   headerSize:  10\n",
      "   dataSize:    30\n",
      "   elementSize: 30\n",
      "   pkgId:       18\n",
      "   flags:       0\n",
      "\n",
      "entry : RDB_ENVIRONMENT_t:\n",
      "   visibility:    +1.0000000000000000e+05\n",
      "   timeOfDay:     9ab0\n",
      "   brightness:    +9.6666663885116577e-01\n",
      "   precipitation: 0\n",
      "   cloudState:    1\n",
      "   flags:         0\n",
      "   spare1:        (0, 0, 0, 0, 0, 0, 0, 0)\n",
      "\n",
      "(60 1671     66.800)\n",
      "RDB_MSG_ENTRY_HDR_t:\n",
      "   headerSize:  10\n",
      "   dataSize:    2c\n",
      "   elementSize: 2c\n",
      "   pkgId:       2710\n",
      "   flags:       0\n",
      "\n",
      "entry : RDB_CUSTOM_SCORING_t:\n",
      "   playerId:    1\n",
      "   pathS:       +0.0000000000000000e+00\n",
      "   roadS:       +1.2726970214843750e+03\n",
      "   fuelCurrent: +0.0000000000000000e+00\n",
      "   fuelAverage: +0.0000000000000000e+00\n",
      "   stateFlags:  0\n",
      "   slip:        +0.0000000000000000e+00\n",
      "   spare:       (0, 0, 0, 0)\n",
      "\n",
      "(88 1671     66.800)\n",
      "RDB_MSG_ENTRY_HDR_t:\n",
      "   headerSize:  10\n",
      "   dataSize:    48\n",
      "   elementSize: 48\n",
      "   pkgId:       15\n",
      "   flags:       0\n",
      "\n",
      "entry : RDB_ROAD_STATE_t:\n",
      "   playerId:     1\n",
      "   wheelId:      -1\n",
      "   spare0:       0\n",
      "   spare1:       0\n",
      "   roadId:       5\n",
      "   defaultSpeed: +2.7777778625488281e+01\n",
      "   waterLevel:   +0.0000000000000000e+00\n",
      "   eventMask:    0\n",
      "   spare2:       (0, 0, 0, 0, 0, 0, 0, 0, 0, 0, 0, 0)\n",
      "\n",
      "(56 1671     66.800)\n",
      "RDB_MSG_ENTRY_HDR_t:\n",
      "   headerSize:  10\n",
      "   dataSize:    28\n",
      "   elementSize: 28\n",
      "   pkgId:       5\n",
      "   flags:       0\n",
      "\n",
      "entry : RDB_ROAD_POS_t:\n",
      "   playerId:   1\n",
      "   roadId:     5\n",
      "   laneId:     1\n",
      "   flags:      2\n",
      "   roadS:      +1.2726970214843750e+03\n",
      "   roadT:      +2.3681111335754395e+00\n",
      "   laneOffset: -7.4311107397079468e-01\n",
      "   hdgRel:     +8.6322456598281860e-02\n",
      "   pitchRel:   +3.2162945717573166e-03\n",
      "   rollRel:    -0.0000000000000000e+00\n",
      "   roadType:   1\n",
      "   spare1:     0\n",
      "   spare2:     0\n",
      "   pathS:      +0.0000000000000000e+00\n",
      "\n",
      "(128 1671     66.800)\n",
      "RDB_MSG_ENTRY_HDR_t:\n",
      "   headerSize:  10\n",
      "   dataSize:    70\n",
      "   elementSize: 38\n",
      "   pkgId:       6\n",
      "   flags:       0\n",
      "\n",
      "entry : RDB_LANE_INFO_t:\n",
      "   roadId:       5\n",
      "   id:           -1\n",
      "   neighborMask: 2\n",
      "   leftLaneId:   1\n",
      "   rightLaneId:  127\n",
      "   borderType:   0\n",
      "   material:     0\n",
      "   status:       0\n",
      "   thetype:      1\n",
      "   width:        +3.2500000000000000e+00\n",
      "   curvVert:     +1.2048161496485905e-04\n",
      "   curvVertDot:  -4.6774379074826511e-11\n",
      "   curvHor:      +3.8114388063640926e-03\n",
      "   curvHorDot:   -0.0000000000000000e+00\n",
      "   playerId:     1\n",
      "   spare1:       0\n",
      "\n",
      "entry : RDB_LANE_INFO_t:\n",
      "   roadId:       5\n",
      "   id:           1\n",
      "   neighborMask: 5\n",
      "   leftLaneId:   127\n",
      "   rightLaneId:  -1\n",
      "   borderType:   0\n",
      "   material:     0\n",
      "   status:       0\n",
      "   thetype:      1\n",
      "   width:        +3.2500000000000000e+00\n",
      "   curvVert:     +1.2048161496485905e-04\n",
      "   curvVertDot:  -4.6774379074826511e-11\n",
      "   curvHor:      +3.8114388063640926e-03\n",
      "   curvHorDot:   -0.0000000000000000e+00\n",
      "   playerId:     1\n",
      "   spare1:       0\n",
      "\n",
      "RDB_MSG_ENTRY_HDR_t:\n",
      "   headerSize:  11b8b80\n",
      "   dataSize:    18\n",
      "   elementSize: 20\n",
      "   pkgId:       687\n",
      "   flags:       0\n",
      "\n",
      "(16 1671     66.800)\n",
      "RDB_MSG_ENTRY_HDR_t:\n",
      "   headerSize:  10\n",
      "   dataSize:    0\n",
      "   elementSize: 0\n",
      "   pkgId:       2\n",
      "   flags:       0\n",
      "\n"
     ]
    }
   ],
   "source": [
    "connection=ViresConnection()\n",
    "finish=true\n",
    "#udp_entry=VirtualTestDrive.create_udp_entry(VirtualTestDrive.RDB_DRIVER_CTRL_t,convert(UInt32,1))\n",
    "entries=VirtualTestDrive.RDB_PACKAGE_ELEMENT[]\n",
    "message=nothing\n",
    "while finish\n",
    "    #VirtualTestDrive.disconnect!(connection)\n",
    "    #connection=ViresConnection()\n",
    "    message=read(connection.UDP,VirtualTestDrive.RDB_Message)\n",
    "    #if VirtualTestDrive.rdb_pkg_id_to_string(message.entry_headers[1].pkgId)==\"START_OF_FRAME\"\n",
    "    #if VirtualTestDrive.rdb_pkg_id_to_string(message.entry_headers[1].pkgId)==\"END_OF_FRAME\"\n",
    "    #    push!(entries,VirtualTestDrive.RDB_END_OF_FRAME_t())\n",
    "    #elseif VirtualTestDrive.rdb_pkg_id_to_string(message.entry_headers[1].pkgId)==\"START_OF_FRAME\"\n",
    "    #    push!(entries,VirtualTestDrive.RDB_START_OF_FRAME_t())\n",
    "    #else\n",
    "    #    push!(entries,message.entries[1])\n",
    "    #end\n",
    "    \n",
    "    #if VirtualTestDrive.rdb_pkg_id_to_string(message.entry_headers[1].pkgId)==\"DRIVER_CTRL\"\n",
    "    #    udp_entry=message.entries[1]\n",
    "    #end\n",
    "    #if VirtualTestDrive.rdb_pkg_id_to_string(message.entry_headers[1].pkgId)==\"ROAD_POS\"\n",
    "        #VirtualTestDrive.write_udp_packet(connection.UDP, udp_entry, message.header.frameNo, message.header.simTime)\n",
    "        #VirtualTestDrive.write(connection.UDP,udp_entry)\n",
    "        #VirtualTestDrive.write_udp_packet(UDPtx, udp_entry, message.header.frameNo+1, message.header.simTime+0.04)\n",
    "        #println(message.data_blocks[1])\n",
    "        #println(message)\n",
    "        #println(\"frameNo : \",message.header.frameNo)\n",
    "        #println(\"simTime : \",message.header.simTime)\n",
    "    #else\n",
    "    #if VirtualTestDrive.rdb_pkg_id_to_type(message.entry_headers[1].pkgId) != \"UNKNOWN\"\n",
    "    #    VirtualTestDrive.write_udp_packet(connection.UDP, message.entries[1], message.header.frameNo, message.header.simTime)\n",
    "    #end\n",
    "    \n",
    "    if VirtualTestDrive.rdb_pkg_id_to_string(message.entry_headers[1].pkgId)==\"END_OF_FRAME\"\n",
    "        #udp_entry=VirtualTestDrive.create_udp_entry(VirtualTestDrive.RDB_DRIVER_CTRL_t,convert(UInt32,1),throttlePedal=convert(Cfloat,0.5),validityFlags=convert(UInt32,VirtualTestDrive.RDB_DRIVER_INPUT_VALIDITY_THROTTLE))\n",
    "        #udp_entry.validityFlags |= convert(UInt32,VirtualTestDrive.RDB_DRIVER_INPUT_VALIDITY_ADD_ON)\n",
    "        #println(udp_entry.validityFlags)\n",
    "        #udp_entry.sourceId=VirtualTestDrive.RDB_DRIVER_SOURCE_GHOSTDRIVER\n",
    "        #VirtualTestDrive.write_udp_packet_with_start_end_of_frame(connection.UDP, udp_entry, message.header.frameNo, message.header.simTime)\n",
    "        VirtualTestDrive.write_udp_packet(connection.UDP, udp_entry, message.header.frameNo, message.header.simTime)\n",
    "        finish=false\n",
    "    end\n",
    "end\n",
    "\n",
    "VirtualTestDrive.disconnect!(connection)"
   ]
  },
  {
   "cell_type": "code",
   "execution_count": null,
   "metadata": {
    "collapsed": false
   },
   "outputs": [],
   "source": [
    "entries[3]"
   ]
  },
  {
   "cell_type": "code",
   "execution_count": null,
   "metadata": {
    "collapsed": false
   },
   "outputs": [],
   "source": [
    "entries[3].base"
   ]
  },
  {
   "cell_type": "code",
   "execution_count": null,
   "metadata": {
    "collapsed": false
   },
   "outputs": [],
   "source": [
    "entries[3].base.pos"
   ]
  },
  {
   "cell_type": "code",
   "execution_count": null,
   "metadata": {
    "collapsed": false
   },
   "outputs": [],
   "source": [
    "entries[3].ext"
   ]
  },
  {
   "cell_type": "code",
   "execution_count": null,
   "metadata": {
    "collapsed": false
   },
   "outputs": [],
   "source": [
    "entries[3].ext.speed"
   ]
  },
  {
   "cell_type": "code",
   "execution_count": null,
   "metadata": {
    "collapsed": false
   },
   "outputs": [],
   "source": [
    "entries[3].ext.accel"
   ]
  },
  {
   "cell_type": "code",
   "execution_count": null,
   "metadata": {
    "collapsed": false
   },
   "outputs": [],
   "source": [
    "message.header.version"
   ]
  },
  {
   "cell_type": "code",
   "execution_count": null,
   "metadata": {
    "collapsed": false
   },
   "outputs": [],
   "source": [
    "message.entry_headers"
   ]
  },
  {
   "cell_type": "code",
   "execution_count": null,
   "metadata": {
    "collapsed": false
   },
   "outputs": [],
   "source": [
    "udp_entry=message.entries[1]"
   ]
  },
  {
   "cell_type": "code",
   "execution_count": null,
   "metadata": {
    "collapsed": false
   },
   "outputs": [],
   "source": [
    "message.entries"
   ]
  },
  {
   "cell_type": "code",
   "execution_count": null,
   "metadata": {
    "collapsed": false
   },
   "outputs": [],
   "source": [
    "connection=ViresConnection()\n",
    "finish=true\n",
    "\n",
    "while finish\n",
    "    #VirtualTestDrive.disconnect!(connection)\n",
    "    #connection=ViresConnection()\n",
    "    message2=read(connection.UDP,VirtualTestDrive.RDB_Package)\n",
    "    #if VirtualTestDrive.rdb_pkg_id_to_string(message.entry_headers[1].pkgId)==\"START_OF_FRAME\"\n",
    "    if VirtualTestDrive.rdb_pkg_id_to_string(message2.entry_headers[1].pkgId)==\"DRIVER_CTRL\"\n",
    "    #if VirtualTestDrive.rdb_pkg_id_to_string(message.entry_headers[1].pkgId)==\"ROAD_POS\"\n",
    "        VirtualTestDrive.write_udp_packet(connection.UDP, udp_entry, message2.header.frameNo, message2.header.simTime)\n",
    "        #VirtualTestDrive.write(connection.UDP,udp_entry)\n",
    "        #VirtualTestDrive.write_udp_packet(UDPtx, udp_entry, message.header.frameNo+1, message.header.simTime+0.04)\n",
    "        #println(message.data_blocks[1])\n",
    "        #println(message)\n",
    "        #println(\"frameNo : \",message.header.frameNo)\n",
    "        #println(\"simTime : \",message.header.simTime)\n",
    "        finish=false\n",
    "    end\n",
    "end\n",
    "VirtualTestDrive.disconnect!(connection)"
   ]
  },
  {
   "cell_type": "code",
   "execution_count": null,
   "metadata": {
    "collapsed": false
   },
   "outputs": [],
   "source": [
    "message=read(connection.SCP,VirtualTestDrive.SCPMessage)"
   ]
  },
  {
   "cell_type": "code",
   "execution_count": null,
   "metadata": {
    "collapsed": false
   },
   "outputs": [],
   "source": [
    "frameNo1 = 31806\n",
    "simTime1 = 1272.199999999423\n",
    "frameNo2 = 32041\n",
    "simTime2 = 1281.5999999994144\n",
    "interval=(simTime2-simTime1)/(frameNo2-frameNo1)"
   ]
  },
  {
   "cell_type": "code",
   "execution_count": null,
   "metadata": {
    "collapsed": false
   },
   "outputs": [],
   "source": [
    "udp_entry=VirtualTestDrive.create_udp_entry(VirtualTestDrive.RDB_DRIVER_CTRL_t,convert(UInt32,1),speedTgt=convert(Cfloat,60),validityFlags=convert(UInt32,VirtualTestDrive.RDB_DRIVER_INPUT_VALIDITY_TGT_SPEED))"
   ]
  },
  {
   "cell_type": "code",
   "execution_count": 3,
   "metadata": {
    "collapsed": false
   },
   "outputs": [
    {
     "data": {
      "text/plain": [
       "RDB_DRIVER_CTRL_t:\n",
       "   playerId:        1\n",
       "   steeringWheel:   +0.0000000000000000e+00\n",
       "   steeringSpeed:   +0.0000000000000000e+00\n",
       "   throttlePedal:   +0.0000000000000000e+00\n",
       "   brakePedal:      +0.0000000000000000e+00\n",
       "   clutchPedal:     +0.0000000000000000e+00\n",
       "   accelTgt:        +5.0000000000000000e+00\n",
       "   steeringTgt:     +2.0000000298023224e-01\n",
       "   curvatureTgt:    +0.0000000000000000e+00\n",
       "   steeringTorque:  +0.0000000000000000e+00\n",
       "   engineTorqueTgt: +0.0000000000000000e+00\n",
       "   speedTgt:        +0.0000000000000000e+00\n",
       "   gear:            0\n",
       "   sourceId:        0\n",
       "   spare0:          (0, 0)\n",
       "   validityFlags:   2060\n",
       "   flags:           0\n",
       "   mockupInput0:    0\n",
       "   mockupInput1:    0\n",
       "   mockupInput2:    0\n",
       "   spare:           0\n"
      ]
     },
     "execution_count": 3,
     "metadata": {},
     "output_type": "execute_result"
    }
   ],
   "source": [
    "udp_entry=VirtualTestDrive.create_udp_entry(VirtualTestDrive.RDB_DRIVER_CTRL_t,convert(UInt32,1),\n",
    "    accelTgt=convert(Cfloat,5),steeringTgt=convert(Cfloat,0.2),\n",
    "    validityFlags=convert(UInt32,VirtualTestDrive.RDB_DRIVER_INPUT_VALIDITY_TGT_ACCEL | VirtualTestDrive.RDB_DRIVER_INPUT_VALIDITY_TGT_STEERING | VirtualTestDrive.RDB_DRIVER_INPUT_VALIDITY_ADD_ON))"
   ]
  },
  {
   "cell_type": "code",
   "execution_count": null,
   "metadata": {
    "collapsed": false
   },
   "outputs": [],
   "source": [
    "udp_entry=VirtualTestDrive.create_udp_entry(VirtualTestDrive.RDB_DRIVER_CTRL_t,convert(UInt32,1),throttlePedal=convert(Cfloat,0.5),validityFlags=convert(UInt32,VirtualTestDrive.RDB_DRIVER_INPUT_VALIDITY_THROTTLE))"
   ]
  },
  {
   "cell_type": "code",
   "execution_count": null,
   "metadata": {
    "collapsed": false
   },
   "outputs": [],
   "source": [
    "print(udp_entry.validityFlags)"
   ]
  },
  {
   "cell_type": "code",
   "execution_count": null,
   "metadata": {
    "collapsed": false
   },
   "outputs": [],
   "source": [
    "entry_header=VirtualTestDrive.create_udp_entry_header([udp_entry])"
   ]
  },
  {
   "cell_type": "code",
   "execution_count": null,
   "metadata": {
    "collapsed": true
   },
   "outputs": [],
   "source": [
    "write_udp_packet(connection.UDP, udp_entry, frameNo::Integer, simTime::Real, flags::UInt16=0x0000)"
   ]
  },
  {
   "cell_type": "code",
   "execution_count": null,
   "metadata": {
    "collapsed": false
   },
   "outputs": [],
   "source": [
    "VirtualTestDrive.rdb_pkg_id_to_type(VirtualTestDrive.RDB_PKG_ID_ROAD_POS)"
   ]
  },
  {
   "cell_type": "code",
   "execution_count": null,
   "metadata": {
    "collapsed": false
   },
   "outputs": [],
   "source": [
    "type abc\n",
    "    a::Vector{Char}\n",
    "end"
   ]
  },
  {
   "cell_type": "code",
   "execution_count": null,
   "metadata": {
    "collapsed": false
   },
   "outputs": [],
   "source": [
    "a=['1','2']"
   ]
  },
  {
   "cell_type": "code",
   "execution_count": null,
   "metadata": {
    "collapsed": false
   },
   "outputs": [],
   "source": [
    "abc1=abc(a)"
   ]
  },
  {
   "cell_type": "code",
   "execution_count": null,
   "metadata": {
    "collapsed": false
   },
   "outputs": [],
   "source": [
    "sizeof(convert(UInt16,1))"
   ]
  },
  {
   "cell_type": "code",
   "execution_count": null,
   "metadata": {
    "collapsed": false
   },
   "outputs": [],
   "source": [
    "sizeof(convert(Cchar,1))"
   ]
  },
  {
   "cell_type": "code",
   "execution_count": null,
   "metadata": {
    "collapsed": false
   },
   "outputs": [],
   "source": [
    "1!=2"
   ]
  },
  {
   "cell_type": "code",
   "execution_count": null,
   "metadata": {
    "collapsed": false
   },
   "outputs": [],
   "source": [
    "round(3.2)"
   ]
  },
  {
   "cell_type": "code",
   "execution_count": null,
   "metadata": {
    "collapsed": false
   },
   "outputs": [],
   "source": [
    "a=Int[]\n",
    "push!(a,1)\n",
    "push!(a,2)"
   ]
  },
  {
   "cell_type": "code",
   "execution_count": null,
   "metadata": {
    "collapsed": false
   },
   "outputs": [],
   "source": [
    "a[1]"
   ]
  },
  {
   "cell_type": "code",
   "execution_count": null,
   "metadata": {
    "collapsed": false
   },
   "outputs": [],
   "source": [
    "convert(Tuple{Char,Char,Char,Char},(69,103,111,0))"
   ]
  },
  {
   "cell_type": "code",
   "execution_count": null,
   "metadata": {
    "collapsed": false
   },
   "outputs": [],
   "source": [
    "a=1"
   ]
  },
  {
   "cell_type": "code",
   "execution_count": null,
   "metadata": {
    "collapsed": false
   },
   "outputs": [],
   "source": [
    "a+=1"
   ]
  },
  {
   "cell_type": "code",
   "execution_count": null,
   "metadata": {
    "collapsed": false
   },
   "outputs": [],
   "source": [
    "convert(UInt32,VirtualTestDrive.RDB_DRIVER_INPUT_VALIDITY_TGT_ACCEL | VirtualTestDrive.RDB_DRIVER_INPUT_VALIDITY_TGT_STEERING | VirtualTestDrive.RDB_DRIVER_INPUT_VALIDITY_ADD_ON)"
   ]
  },
  {
   "cell_type": "code",
   "execution_count": null,
   "metadata": {
    "collapsed": false
   },
   "outputs": [],
   "source": [
    "VirtualTestDrive.RDB_DRIVER_INPUT_VALIDITY_TGT_ACCEL"
   ]
  },
  {
   "cell_type": "code",
   "execution_count": null,
   "metadata": {
    "collapsed": false
   },
   "outputs": [],
   "source": [
    "VirtualTestDrive.RDB_DRIVER_INPUT_VALIDITY_TGT_STEERING"
   ]
  },
  {
   "cell_type": "code",
   "execution_count": null,
   "metadata": {
    "collapsed": true
   },
   "outputs": [],
   "source": []
  }
 ],
 "metadata": {
  "anaconda-cloud": {},
  "kernelspec": {
   "display_name": "Julia 0.5.0",
   "language": "julia",
   "name": "julia-0.5"
  },
  "language_info": {
   "file_extension": ".jl",
   "mimetype": "application/julia",
   "name": "julia",
   "version": "0.5.0"
  }
 },
 "nbformat": 4,
 "nbformat_minor": 1
}
