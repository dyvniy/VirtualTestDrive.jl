{
 "cells": [
  {
   "cell_type": "code",
   "execution_count": null,
   "metadata": {
    "collapsed": false
   },
   "outputs": [],
   "source": [
    "using VirtualTestDrive"
   ]
  },
  {
   "cell_type": "code",
   "execution_count": null,
   "metadata": {
    "collapsed": false
   },
   "outputs": [],
   "source": [
    "connection = ViresConnection()"
   ]
  },
  {
   "cell_type": "code",
   "execution_count": null,
   "metadata": {
    "collapsed": false
   },
   "outputs": [],
   "source": [
    " VirtualTestDrive.disconnect!(connection)"
   ]
  },
  {
   "cell_type": "code",
   "execution_count": null,
   "metadata": {
    "collapsed": false
   },
   "outputs": [],
   "source": [
    "scenario = \"/home/eric/Downloads/VTD.2.0/Data/Projects/Default/Scenarios/trafficDemoPath.xml\"\n",
    "mode = :operation\n",
    "msg = SCPMessage(VirtualTestDrive.get_xml_simctrl_load_init(scenario, mode))\n",
    "write(connection.SCP, msg)"
   ]
  },
  {
   "cell_type": "code",
   "execution_count": null,
   "metadata": {
    "collapsed": false
   },
   "outputs": [],
   "source": [
    "completed = VirtualTestDrive.wait_for_packet_with_element(connection.SCP, \"EgoCtrl\",\"Speed\",1000)"
   ]
  },
  {
   "cell_type": "code",
   "execution_count": null,
   "metadata": {
    "collapsed": false
   },
   "outputs": [],
   "source": [
    "message = read(connection.UDP,VirtualTestDrive.RDB_MSG_HDR_t)\n",
    "message.frameNo"
   ]
  },
  {
   "cell_type": "code",
   "execution_count": null,
   "metadata": {
    "collapsed": false
   },
   "outputs": [],
   "source": [
    "const UDP_PORT_tx = 48191\n",
    "UDPtx = connect(UDP_PORT_tx)\n",
    "start_time = time()\n",
    "timeout=10\n",
    "while !isopen(UDPtx) && time() - start_time < timeout\n",
    "    sleep(sleeptime)\n",
    "end"
   ]
  },
  {
   "cell_type": "code",
   "execution_count": null,
   "metadata": {
    "collapsed": true
   },
   "outputs": [],
   "source": [
    "close(UDPtx)"
   ]
  },
  {
   "cell_type": "code",
   "execution_count": null,
   "metadata": {
    "collapsed": false
   },
   "outputs": [],
   "source": [
    "message=read(connection.UDP,VirtualTestDrive.RDB_Package)"
   ]
  },
  {
   "cell_type": "code",
   "execution_count": null,
   "metadata": {
    "collapsed": false
   },
   "outputs": [],
   "source": [
    "connection=ViresConnection()\n",
    "message=read(connection.UDP,VirtualTestDrive.RDB_Package)\n",
    "VirtualTestDrive.write_udp_packet(connection.UDP, udp_entry, message.header.frameNo, message.header.simTime)\n",
    "VirtualTestDrive.disconnect!(connection)"
   ]
  },
  {
   "cell_type": "code",
   "execution_count": null,
   "metadata": {
    "collapsed": false
   },
   "outputs": [],
   "source": [
    "#connection=ViresConnection()\n",
    "message=read(connection.UDP,VirtualTestDrive.RDB_Message)\n"
   ]
  },
  {
   "cell_type": "code",
   "execution_count": null,
   "metadata": {
    "collapsed": false
   },
   "outputs": [],
   "source": [
    "connection=ViresConnection()\n",
    "finish=true\n",
    "#udp_entry=VirtualTestDrive.create_udp_entry(VirtualTestDrive.RDB_DRIVER_CTRL_t,convert(UInt32,1))\n",
    "entries=VirtualTestDrive.RDB_PACKAGE_ELEMENT[]\n",
    "message=nothing\n",
    "while finish\n",
    "    #VirtualTestDrive.disconnect!(connection)\n",
    "    #connection=ViresConnection()\n",
    "    message=read(connection.UDP,VirtualTestDrive.RDB_Message)\n",
    "    #if VirtualTestDrive.rdb_pkg_id_to_string(message.entry_headers[1].pkgId)==\"START_OF_FRAME\"\n",
    "    #if VirtualTestDrive.rdb_pkg_id_to_string(message.entry_headers[1].pkgId)==\"END_OF_FRAME\"\n",
    "    #    push!(entries,VirtualTestDrive.RDB_END_OF_FRAME_t())\n",
    "    #elseif VirtualTestDrive.rdb_pkg_id_to_string(message.entry_headers[1].pkgId)==\"START_OF_FRAME\"\n",
    "    #    push!(entries,VirtualTestDrive.RDB_START_OF_FRAME_t())\n",
    "    #else\n",
    "    #    push!(entries,message.entries[1])\n",
    "    #end\n",
    "    \n",
    "    #if VirtualTestDrive.rdb_pkg_id_to_string(message.entry_headers[1].pkgId)==\"DRIVER_CTRL\"\n",
    "    #    udp_entry=message.entries[1]\n",
    "    #end\n",
    "    #if VirtualTestDrive.rdb_pkg_id_to_string(message.entry_headers[1].pkgId)==\"ROAD_POS\"\n",
    "        #VirtualTestDrive.write_udp_packet(connection.UDP, udp_entry, message.header.frameNo, message.header.simTime)\n",
    "        #VirtualTestDrive.write(connection.UDP,udp_entry)\n",
    "        #VirtualTestDrive.write_udp_packet(UDPtx, udp_entry, message.header.frameNo+1, message.header.simTime+0.04)\n",
    "        #println(message.data_blocks[1])\n",
    "        #println(message)\n",
    "        #println(\"frameNo : \",message.header.frameNo)\n",
    "        #println(\"simTime : \",message.header.simTime)\n",
    "    #else\n",
    "    #if VirtualTestDrive.rdb_pkg_id_to_type(message.entry_headers[1].pkgId) != \"UNKNOWN\"\n",
    "    #    VirtualTestDrive.write_udp_packet(connection.UDP, message.entries[1], message.header.frameNo, message.header.simTime)\n",
    "    #end\n",
    "    \n",
    "    if VirtualTestDrive.rdb_pkg_id_to_string(message.entry_headers[1].pkgId)==\"END_OF_FRAME\"\n",
    "        #udp_entry=VirtualTestDrive.create_udp_entry(VirtualTestDrive.RDB_DRIVER_CTRL_t,convert(UInt32,1),throttlePedal=convert(Cfloat,0.5),validityFlags=convert(UInt32,VirtualTestDrive.RDB_DRIVER_INPUT_VALIDITY_THROTTLE))\n",
    "        #udp_entry.validityFlags |= convert(UInt32,VirtualTestDrive.RDB_DRIVER_INPUT_VALIDITY_ADD_ON)\n",
    "        #println(udp_entry.validityFlags)\n",
    "        #udp_entry.sourceId=VirtualTestDrive.RDB_DRIVER_SOURCE_GHOSTDRIVER\n",
    "        #VirtualTestDrive.write_udp_packet_with_start_end_of_frame(connection.UDP, udp_entry, message.header.frameNo, message.header.simTime)\n",
    "        VirtualTestDrive.write_udp_packet(connection.UDP, udp_entry, message.header.frameNo, message.header.simTime)\n",
    "        finish=false\n",
    "    end\n",
    "end\n",
    "\n",
    "VirtualTestDrive.disconnect!(connection)"
   ]
  },
  {
   "cell_type": "code",
   "execution_count": null,
   "metadata": {
    "collapsed": false
   },
   "outputs": [],
   "source": [
    "entries[3]"
   ]
  },
  {
   "cell_type": "code",
   "execution_count": null,
   "metadata": {
    "collapsed": false
   },
   "outputs": [],
   "source": [
    "entries[3].base"
   ]
  },
  {
   "cell_type": "code",
   "execution_count": null,
   "metadata": {
    "collapsed": false
   },
   "outputs": [],
   "source": [
    "entries[3].base.pos"
   ]
  },
  {
   "cell_type": "code",
   "execution_count": null,
   "metadata": {
    "collapsed": false
   },
   "outputs": [],
   "source": [
    "entries[3].ext"
   ]
  },
  {
   "cell_type": "code",
   "execution_count": null,
   "metadata": {
    "collapsed": false
   },
   "outputs": [],
   "source": [
    "entries[3].ext.speed"
   ]
  },
  {
   "cell_type": "code",
   "execution_count": null,
   "metadata": {
    "collapsed": false
   },
   "outputs": [],
   "source": [
    "entries[3].ext.accel"
   ]
  },
  {
   "cell_type": "code",
   "execution_count": null,
   "metadata": {
    "collapsed": false
   },
   "outputs": [],
   "source": [
    "message.header.version"
   ]
  },
  {
   "cell_type": "code",
   "execution_count": null,
   "metadata": {
    "collapsed": false
   },
   "outputs": [],
   "source": [
    "message.entry_headers"
   ]
  },
  {
   "cell_type": "code",
   "execution_count": null,
   "metadata": {
    "collapsed": false
   },
   "outputs": [],
   "source": [
    "udp_entry=message.entries[1]"
   ]
  },
  {
   "cell_type": "code",
   "execution_count": null,
   "metadata": {
    "collapsed": false
   },
   "outputs": [],
   "source": [
    "message.entries"
   ]
  },
  {
   "cell_type": "code",
   "execution_count": null,
   "metadata": {
    "collapsed": false
   },
   "outputs": [],
   "source": [
    "connection=ViresConnection()\n",
    "finish=true\n",
    "\n",
    "while finish\n",
    "    #VirtualTestDrive.disconnect!(connection)\n",
    "    #connection=ViresConnection()\n",
    "    message2=read(connection.UDP,VirtualTestDrive.RDB_Package)\n",
    "    #if VirtualTestDrive.rdb_pkg_id_to_string(message.entry_headers[1].pkgId)==\"START_OF_FRAME\"\n",
    "    if VirtualTestDrive.rdb_pkg_id_to_string(message2.entry_headers[1].pkgId)==\"DRIVER_CTRL\"\n",
    "    #if VirtualTestDrive.rdb_pkg_id_to_string(message.entry_headers[1].pkgId)==\"ROAD_POS\"\n",
    "        VirtualTestDrive.write_udp_packet(connection.UDP, udp_entry, message2.header.frameNo, message2.header.simTime)\n",
    "        #VirtualTestDrive.write(connection.UDP,udp_entry)\n",
    "        #VirtualTestDrive.write_udp_packet(UDPtx, udp_entry, message.header.frameNo+1, message.header.simTime+0.04)\n",
    "        #println(message.data_blocks[1])\n",
    "        #println(message)\n",
    "        #println(\"frameNo : \",message.header.frameNo)\n",
    "        #println(\"simTime : \",message.header.simTime)\n",
    "        finish=false\n",
    "    end\n",
    "end\n",
    "VirtualTestDrive.disconnect!(connection)"
   ]
  },
  {
   "cell_type": "code",
   "execution_count": null,
   "metadata": {
    "collapsed": false
   },
   "outputs": [],
   "source": [
    "message=read(connection.SCP,VirtualTestDrive.SCPMessage)"
   ]
  },
  {
   "cell_type": "code",
   "execution_count": null,
   "metadata": {
    "collapsed": false
   },
   "outputs": [],
   "source": [
    "frameNo1 = 31806\n",
    "simTime1 = 1272.199999999423\n",
    "frameNo2 = 32041\n",
    "simTime2 = 1281.5999999994144\n",
    "interval=(simTime2-simTime1)/(frameNo2-frameNo1)"
   ]
  },
  {
   "cell_type": "code",
   "execution_count": null,
   "metadata": {
    "collapsed": false
   },
   "outputs": [],
   "source": [
    "udp_entry=VirtualTestDrive.create_udp_entry(VirtualTestDrive.RDB_DRIVER_CTRL_t,convert(UInt32,1),speedTgt=convert(Cfloat,60),validityFlags=convert(UInt32,VirtualTestDrive.RDB_DRIVER_INPUT_VALIDITY_TGT_SPEED))"
   ]
  },
  {
   "cell_type": "code",
   "execution_count": null,
   "metadata": {
    "collapsed": false
   },
   "outputs": [],
   "source": [
    "udp_entry=VirtualTestDrive.create_udp_entry(VirtualTestDrive.RDB_DRIVER_CTRL_t,convert(UInt32,1),\n",
    "    accelTgt=convert(Cfloat,5),steeringTgt=convert(Cfloat,0.2),\n",
    "    validityFlags=convert(UInt32,VirtualTestDrive.RDB_DRIVER_INPUT_VALIDITY_TGT_ACCEL | VirtualTestDrive.RDB_DRIVER_INPUT_VALIDITY_TGT_STEERING | VirtualTestDrive.RDB_DRIVER_INPUT_VALIDITY_ADD_ON))"
   ]
  },
  {
   "cell_type": "code",
   "execution_count": null,
   "metadata": {
    "collapsed": false
   },
   "outputs": [],
   "source": [
    "udp_entry=VirtualTestDrive.create_udp_entry(VirtualTestDrive.RDB_DRIVER_CTRL_t,convert(UInt32,1),throttlePedal=convert(Cfloat,0.5),validityFlags=convert(UInt32,VirtualTestDrive.RDB_DRIVER_INPUT_VALIDITY_THROTTLE))"
   ]
  },
  {
   "cell_type": "code",
   "execution_count": null,
   "metadata": {
    "collapsed": false
   },
   "outputs": [],
   "source": [
    "print(udp_entry.validityFlags)"
   ]
  },
  {
   "cell_type": "code",
   "execution_count": null,
   "metadata": {
    "collapsed": false
   },
   "outputs": [],
   "source": [
    "entry_header=VirtualTestDrive.create_udp_entry_header([udp_entry])"
   ]
  },
  {
   "cell_type": "code",
   "execution_count": null,
   "metadata": {
    "collapsed": true
   },
   "outputs": [],
   "source": [
    "write_udp_packet(connection.UDP, udp_entry, frameNo::Integer, simTime::Real, flags::UInt16=0x0000)"
   ]
  },
  {
   "cell_type": "code",
   "execution_count": null,
   "metadata": {
    "collapsed": false
   },
   "outputs": [],
   "source": [
    "VirtualTestDrive.rdb_pkg_id_to_type(VirtualTestDrive.RDB_PKG_ID_ROAD_POS)"
   ]
  },
  {
   "cell_type": "code",
   "execution_count": null,
   "metadata": {
    "collapsed": false
   },
   "outputs": [],
   "source": [
    "type abc\n",
    "    a::Vector{Char}\n",
    "end"
   ]
  },
  {
   "cell_type": "code",
   "execution_count": null,
   "metadata": {
    "collapsed": false
   },
   "outputs": [],
   "source": [
    "a=['1','2']"
   ]
  },
  {
   "cell_type": "code",
   "execution_count": null,
   "metadata": {
    "collapsed": false
   },
   "outputs": [],
   "source": [
    "abc1=abc(a)"
   ]
  },
  {
   "cell_type": "code",
   "execution_count": null,
   "metadata": {
    "collapsed": false
   },
   "outputs": [],
   "source": [
    "sizeof(convert(UInt16,1))"
   ]
  },
  {
   "cell_type": "code",
   "execution_count": null,
   "metadata": {
    "collapsed": false
   },
   "outputs": [],
   "source": [
    "sizeof(convert(Cchar,1))"
   ]
  },
  {
   "cell_type": "code",
   "execution_count": null,
   "metadata": {
    "collapsed": false
   },
   "outputs": [],
   "source": [
    "1!=2"
   ]
  },
  {
   "cell_type": "code",
   "execution_count": null,
   "metadata": {
    "collapsed": false
   },
   "outputs": [],
   "source": [
    "round(3.2)"
   ]
  },
  {
   "cell_type": "code",
   "execution_count": null,
   "metadata": {
    "collapsed": false
   },
   "outputs": [],
   "source": [
    "a=Int[]\n",
    "push!(a,1)\n",
    "push!(a,2)"
   ]
  },
  {
   "cell_type": "code",
   "execution_count": null,
   "metadata": {
    "collapsed": false
   },
   "outputs": [],
   "source": [
    "a[1]"
   ]
  },
  {
   "cell_type": "code",
   "execution_count": null,
   "metadata": {
    "collapsed": false
   },
   "outputs": [],
   "source": [
    "convert(Tuple{Char,Char,Char,Char},(69,103,111,0))"
   ]
  },
  {
   "cell_type": "code",
   "execution_count": null,
   "metadata": {
    "collapsed": false
   },
   "outputs": [],
   "source": [
    "a=1"
   ]
  },
  {
   "cell_type": "code",
   "execution_count": null,
   "metadata": {
    "collapsed": false
   },
   "outputs": [],
   "source": [
    "a+=1"
   ]
  },
  {
   "cell_type": "code",
   "execution_count": null,
   "metadata": {
    "collapsed": false
   },
   "outputs": [],
   "source": [
    "convert(UInt32,VirtualTestDrive.RDB_DRIVER_INPUT_VALIDITY_TGT_ACCEL | VirtualTestDrive.RDB_DRIVER_INPUT_VALIDITY_TGT_STEERING | VirtualTestDrive.RDB_DRIVER_INPUT_VALIDITY_ADD_ON)"
   ]
  },
  {
   "cell_type": "code",
   "execution_count": null,
   "metadata": {
    "collapsed": false
   },
   "outputs": [],
   "source": [
    "VirtualTestDrive.RDB_DRIVER_INPUT_VALIDITY_TGT_ACCEL"
   ]
  },
  {
   "cell_type": "code",
   "execution_count": null,
   "metadata": {
    "collapsed": false
   },
   "outputs": [],
   "source": [
    "VirtualTestDrive.RDB_DRIVER_INPUT_VALIDITY_TGT_STEERING"
   ]
  },
  {
   "cell_type": "code",
   "execution_count": null,
   "metadata": {
    "collapsed": true
   },
   "outputs": [],
   "source": []
  }
 ],
 "metadata": {
  "anaconda-cloud": {},
  "kernelspec": {
   "display_name": "Julia 0.5.0",
   "language": "julia",
   "name": "julia-0.5"
  },
  "language_info": {
   "file_extension": ".jl",
   "mimetype": "application/julia",
   "name": "julia",
   "version": "0.5.0"
  }
 },
 "nbformat": 4,
 "nbformat_minor": 1
}
