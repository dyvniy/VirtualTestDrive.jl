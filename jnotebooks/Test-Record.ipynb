{
 "cells": [
  {
   "cell_type": "code",
   "execution_count": 1,
   "metadata": {
    "collapsed": false
   },
   "outputs": [
    {
     "name": "stderr",
     "output_type": "stream",
     "text": [
      "\u001b[1m\u001b[31mWARNING: `@linux` is deprecated, use `@static is_linux()` instead\u001b[0m\n",
      " in depwarn(::String, ::Symbol) at ./deprecated.jl:64\n",
      " in @linux(::Any, ::Any) at ./deprecated.jl:484\n",
      " in include_from_node1(::String) at ./loading.jl:488 (repeats 2 times)\n",
      " in eval(::Module, ::Any) at ./boot.jl:234\n",
      " in require(::Symbol) at ./loading.jl:415\n",
      " in include_string(::String, ::String) at ./loading.jl:441\n",
      " in execute_request(::ZMQ.Socket, ::IJulia.Msg) at /home/eric/.julia/v0.5/IJulia/src/execute_request.jl:157\n",
      " in eventloop(::ZMQ.Socket) at /home/eric/.julia/v0.5/IJulia/src/eventloop.jl:8\n",
      " in (::IJulia.##13#19)() at ./task.jl:360\n",
      "while loading /home/eric/.julia/v0.5/VirtualTestDrive/src/system.jl, in expression starting on line 1\n"
     ]
    }
   ],
   "source": [
    "using VirtualTestDrive"
   ]
  },
  {
   "cell_type": "code",
   "execution_count": 2,
   "metadata": {
    "collapsed": false
   },
   "outputs": [
    {
     "data": {
      "text/plain": [
       "VirtualTestDrive.ViresConnection(TCPSocket(open, 0 bytes waiting),TCPSocket(open, 0 bytes waiting),false,0x00000000)"
      ]
     },
     "execution_count": 2,
     "metadata": {},
     "output_type": "execute_result"
    }
   ],
   "source": [
    "connection = ViresConnection()"
   ]
  },
  {
   "cell_type": "code",
   "execution_count": 3,
   "metadata": {
    "collapsed": false
   },
   "outputs": [
    {
     "data": {
      "text/plain": [
       "121"
      ]
     },
     "execution_count": 3,
     "metadata": {},
     "output_type": "execute_result"
    }
   ],
   "source": [
    "path=\"/home/eric/Xiaobai/Record\"\n",
    "name=\"testRecord\"\n",
    "payload=VirtualTestDrive.get_xml_record_overwrite(path, name)\n",
    "SCPmessage=SCPMessage(payload)\n",
    "write(connection.SCP, SCPmessage)"
   ]
  },
  {
   "cell_type": "code",
   "execution_count": null,
   "metadata": {
    "collapsed": false
   },
   "outputs": [],
   "source": [
    "payload=VirtualTestDrive.get_xml_record_stop()\n",
    "SCPmessage=SCPMessage(payload)\n",
    "write(connection.SCP, SCPmessage)"
   ]
  },
  {
   "cell_type": "code",
   "execution_count": null,
   "metadata": {
    "collapsed": false
   },
   "outputs": [],
   "source": [
    "VirtualTestDrive.disconnect!(connection)"
   ]
  },
  {
   "cell_type": "code",
   "execution_count": null,
   "metadata": {
    "collapsed": false
   },
   "outputs": [],
   "source": [
    "payload=\"<Video><File path=\\\"\"*path*\"\\\" name=\\\"\"*name*\"\\\" /><Output path=\\\"\"*path*\"\\\" name=\\\"testVideo\\\" /><Start></Video>\""
   ]
  },
  {
   "cell_type": "code",
   "execution_count": null,
   "metadata": {
    "collapsed": false
   },
   "outputs": [],
   "source": [
    "SCPmessage=SCPMessage(payload)\n",
    "write(connection.SCP, SCPmessage)"
   ]
  },
  {
   "cell_type": "code",
   "execution_count": null,
   "metadata": {
    "collapsed": true
   },
   "outputs": [],
   "source": []
  }
 ],
 "metadata": {
  "anaconda-cloud": {},
  "kernelspec": {
   "display_name": "Julia 0.5.0",
   "language": "julia",
   "name": "julia-0.5"
  },
  "language_info": {
   "file_extension": ".jl",
   "mimetype": "application/julia",
   "name": "julia",
   "version": "0.5.0"
  }
 },
 "nbformat": 4,
 "nbformat_minor": 1
}
