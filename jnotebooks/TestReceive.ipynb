{
 "cells": [
  {
   "cell_type": "code",
   "execution_count": 1,
   "metadata": {
    "collapsed": false
   },
   "outputs": [
    {
     "name": "stderr",
     "output_type": "stream",
     "text": [
      "\u001b[1m\u001b[31mWARNING: `@linux` is deprecated, use `@static is_linux()` instead\u001b[0m\n",
      " in depwarn(::String, ::Symbol) at ./deprecated.jl:64\n",
      " in @linux(::Any, ::Any) at ./deprecated.jl:484\n",
      " in include_from_node1(::String) at ./loading.jl:488 (repeats 2 times)\n",
      " in eval(::Module, ::Any) at ./boot.jl:234\n",
      " in require(::Symbol) at ./loading.jl:415\n",
      " in include_string(::String, ::String) at ./loading.jl:441\n",
      " in execute_request(::ZMQ.Socket, ::IJulia.Msg) at /home/eric/.julia/v0.5/IJulia/src/execute_request.jl:157\n",
      " in eventloop(::ZMQ.Socket) at /home/eric/.julia/v0.5/IJulia/src/eventloop.jl:8\n",
      " in (::IJulia.##13#19)() at ./task.jl:360\n",
      "while loading /home/eric/.julia/v0.5/VirtualTestDrive/src/system.jl, in expression starting on line 1\n"
     ]
    }
   ],
   "source": [
    "using VirtualTestDrive"
   ]
  },
  {
   "cell_type": "code",
   "execution_count": 2,
   "metadata": {
    "collapsed": false
   },
   "outputs": [
    {
     "data": {
      "text/plain": [
       "VirtualTestDrive.ViresConnection(TCPSocket(open, 0 bytes waiting),TCPSocket(open, 0 bytes waiting),false,0x00000000)"
      ]
     },
     "execution_count": 2,
     "metadata": {},
     "output_type": "execute_result"
    }
   ],
   "source": [
    "connection=ViresConnection()"
   ]
  },
  {
   "cell_type": "code",
   "execution_count": null,
   "metadata": {
    "collapsed": false
   },
   "outputs": [],
   "source": [
    "VirtualTestDrive.disconnect!(connection)"
   ]
  },
  {
   "cell_type": "code",
   "execution_count": null,
   "metadata": {
    "collapsed": false
   },
   "outputs": [],
   "source": [
    "message=read(connection.UDP,VirtualTestDrive.RDB_MSG_HDR_t)\n",
    "message.frameNo"
   ]
  },
  {
   "cell_type": "code",
   "execution_count": null,
   "metadata": {
    "collapsed": false
   },
   "outputs": [],
   "source": [
    "const UDP_PORT_tx = 48191\n",
    "UDPtx = connect(UDP_PORT_tx)\n",
    "#start_time = time()\n",
    "#while !isopen(UDPtx) && time() - start_time < timeout\n",
    "#    sleep(sleeptime)\n",
    "#end"
   ]
  },
  {
   "cell_type": "code",
   "execution_count": null,
   "metadata": {
    "collapsed": true
   },
   "outputs": [],
   "source": [
    "close(UDPtx)"
   ]
  },
  {
   "cell_type": "code",
   "execution_count": null,
   "metadata": {
    "collapsed": false
   },
   "outputs": [],
   "source": [
    "message=read(connection.UDP,VirtualTestDrive.RDB_Package)"
   ]
  },
  {
   "cell_type": "code",
   "execution_count": null,
   "metadata": {
    "collapsed": false
   },
   "outputs": [],
   "source": [
    "while true\n",
    "    #VirtualTestDrive.disconnect!(connection)\n",
    "    #connection=ViresConnection()\n",
    "    message=read(connection.UDP,VirtualTestDrive.RDB_Package)\n",
    "    if VirtualTestDrive.rdb_pkg_id_to_string(message.entry_headers[1].pkgId)==\"DRIVER_CTRL\"\n",
    "        #VirtualTestDrive.write_udp_packet(connection.UDP, udp_entry, message.header.frameNo, message.header.simTime)\n",
    "        #VirtualTestDrive.write_udp_packet(UDPtx, udp_entry, message.header.frameNo+1, message.header.simTime+0.04)\n",
    "        #println(message.data_blocks[1])\n",
    "        println(message)\n",
    "        println(\"frameNo : \",message.header.frameNo)\n",
    "        println(\"simTime : \",message.header.simTime)\n",
    "    end\n",
    "end"
   ]
  },
  {
   "cell_type": "code",
   "execution_count": null,
   "metadata": {
    "collapsed": false
   },
   "outputs": [],
   "source": [
    "message=read(connection.SCP,VirtualTestDrive.SCPMessage)"
   ]
  },
  {
   "cell_type": "code",
   "execution_count": null,
   "metadata": {
    "collapsed": false
   },
   "outputs": [],
   "source": [
    "frameNo1 = 31806\n",
    "simTime1 = 1272.199999999423\n",
    "frameNo2 = 32041\n",
    "simTime2 = 1281.5999999994144\n",
    "interval=(simTime2-simTime1)/(frameNo2-frameNo1)"
   ]
  },
  {
   "cell_type": "code",
   "execution_count": null,
   "metadata": {
    "collapsed": false
   },
   "outputs": [],
   "source": [
    "udp_entry=VirtualTestDrive.create_udp_entry(VirtualTestDrive.RDB_DRIVER_CTRL_t,convert(UInt32,1),accelTgt=convert(Cfloat,1))"
   ]
  },
  {
   "cell_type": "code",
   "execution_count": null,
   "metadata": {
    "collapsed": false
   },
   "outputs": [],
   "source": [
    "entry_header=VirtualTestDrive.create_udp_entry_header([udp_entry])"
   ]
  },
  {
   "cell_type": "code",
   "execution_count": null,
   "metadata": {
    "collapsed": true
   },
   "outputs": [],
   "source": [
    "write_udp_packet(connection.UDP, udp_entry, frameNo::Integer, simTime::Real, flags::UInt16=0x0000)"
   ]
  },
  {
   "cell_type": "code",
   "execution_count": null,
   "metadata": {
    "collapsed": false
   },
   "outputs": [],
   "source": [
    "a=connect(48191)"
   ]
  },
  {
   "cell_type": "code",
   "execution_count": null,
   "metadata": {
    "collapsed": true
   },
   "outputs": [],
   "source": [
    "close(a)"
   ]
  },
  {
   "cell_type": "code",
   "execution_count": null,
   "metadata": {
    "collapsed": false
   },
   "outputs": [],
   "source": [
    "a=[4,5,6]\n",
    "size(a)"
   ]
  },
  {
   "cell_type": "code",
   "execution_count": null,
   "metadata": {
    "collapsed": false
   },
   "outputs": [],
   "source": [
    "index=findn(a)\n",
    "a[index]"
   ]
  },
  {
   "cell_type": "code",
   "execution_count": 8,
   "metadata": {
    "collapsed": false
   },
   "outputs": [
    {
     "data": {
      "text/plain": [
       "2"
      ]
     },
     "execution_count": 8,
     "metadata": {},
     "output_type": "execute_result"
    }
   ],
   "source": [
    "write(connection.UDP, convert(UInt16,8))"
   ]
  },
  {
   "cell_type": "code",
   "execution_count": null,
   "metadata": {
    "collapsed": true
   },
   "outputs": [],
   "source": []
  }
 ],
 "metadata": {
  "anaconda-cloud": {},
  "kernelspec": {
   "display_name": "Julia 0.5.0",
   "language": "julia",
   "name": "julia-0.5"
  },
  "language_info": {
   "file_extension": ".jl",
   "mimetype": "application/julia",
   "name": "julia",
   "version": "0.5.0"
  }
 },
 "nbformat": 4,
 "nbformat_minor": 1
}
