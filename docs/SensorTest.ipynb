{
 "cells": [
  {
   "cell_type": "code",
   "execution_count": 1,
   "metadata": {},
   "outputs": [
    {
     "name": "stderr",
     "output_type": "stream",
     "text": [
      "\u001b[1m\u001b[31mWARNING: `@linux` is deprecated, use `@static is_linux()` instead\u001b[0m\n",
      " in depwarn(::String, ::Symbol) at ./deprecated.jl:64\n",
      " in @linux(::Any, ::Any) at ./deprecated.jl:484\n",
      " in include_from_node1(::String) at ./loading.jl:488 (repeats 2 times)\n",
      " in eval(::Module, ::Any) at ./boot.jl:234\n",
      " in require(::Symbol) at ./loading.jl:415\n",
      " in include_string(::String, ::String) at ./loading.jl:441\n",
      " in execute_request(::ZMQ.Socket, ::IJulia.Msg) at /home/eric/.julia/v0.5/IJulia/src/execute_request.jl:157\n",
      " in eventloop(::ZMQ.Socket) at /home/eric/.julia/v0.5/IJulia/src/eventloop.jl:8\n",
      " in (::IJulia.##13#19)() at ./task.jl:360\n",
      "while loading /home/eric/.julia/v0.5/VirtualTestDrive/src/system.jl, in expression starting on line 1\n"
     ]
    }
   ],
   "source": [
    "using VirtualTestDrive"
   ]
  },
  {
   "cell_type": "code",
   "execution_count": 2,
   "metadata": {},
   "outputs": [
    {
     "data": {
      "text/plain": [
       "TCPSocket(open, 0 bytes waiting)"
      ]
     },
     "execution_count": 2,
     "metadata": {},
     "output_type": "execute_result"
    }
   ],
   "source": [
    "UDP = connect(48195)\n",
    "start_time = time()\n",
    "while !isopen(UDP) && time() - start_time < timeout\n",
    "    sleep(sleeptime)\n",
    "end\n",
    "UDP"
   ]
  },
  {
   "cell_type": "code",
   "execution_count": 3,
   "metadata": {},
   "outputs": [
    {
     "data": {
      "text/plain": [
       "VirtualTestDrive.RDB_Message(VirtualTestDrive.RDB_MSG_HDR_t(0x8b80,0x011b,0x00000018,0x00000d44,0x000000d4,10.550000000000015),VirtualTestDrive.RDB_MSG_ENTRY_HDR_t[RDB_MSG_ENTRY_HDR_t:\n",
       "   headerSize:  10\n",
       "   dataSize:    0\n",
       "   elementSize: 0\n",
       "   pkgId:       1\n",
       "   flags:       0\n",
       ",RDB_MSG_ENTRY_HDR_t:\n",
       "   headerSize:  10\n",
       "   dataSize:    50\n",
       "   elementSize: 28\n",
       "   pkgId:       5\n",
       "   flags:       0\n",
       ",RDB_MSG_ENTRY_HDR_t:\n",
       "   headerSize:  10\n",
       "   dataSize:    8a0\n",
       "   elementSize: 450\n",
       "   pkgId:       8\n",
       "   flags:       0\n",
       ",RDB_MSG_ENTRY_HDR_t:\n",
       "   headerSize:  10\n",
       "   dataSize:    1a0\n",
       "   elementSize: d0\n",
       "   pkgId:       9\n",
       "   flags:       1\n",
       ",RDB_MSG_ENTRY_HDR_t:\n",
       "   headerSize:  10\n",
       "   dataSize:    58\n",
       "   elementSize: 2c\n",
       "   pkgId:       a\n",
       "   flags:       0\n",
       ",RDB_MSG_ENTRY_HDR_t:\n",
       "   headerSize:  10\n",
       "   dataSize:    9c\n",
       "   elementSize: 9c\n",
       "   pkgId:       10\n",
       "   flags:       0\n",
       ",RDB_MSG_ENTRY_HDR_t:\n",
       "   headerSize:  10\n",
       "   dataSize:    98\n",
       "   elementSize: 4c\n",
       "   pkgId:       11\n",
       "   flags:       0\n",
       ",RDB_MSG_ENTRY_HDR_t:\n",
       "   headerSize:  10\n",
       "   dataSize:    58\n",
       "   elementSize: 58\n",
       "   pkgId:       12\n",
       "   flags:       0\n",
       ",RDB_MSG_ENTRY_HDR_t:\n",
       "   headerSize:  10\n",
       "   dataSize:    30\n",
       "   elementSize: 30\n",
       "   pkgId:       18\n",
       "   flags:       0\n",
       ",RDB_MSG_ENTRY_HDR_t:\n",
       "   headerSize:  10\n",
       "   dataSize:    0\n",
       "   elementSize: 0\n",
       "   pkgId:       2\n",
       "   flags:       0\n",
       "],VirtualTestDrive.RDB_PACKAGE_ELEMENT[RDB_START_OF_FRAME_t:\n",
       ",RDB_ROAD_POS_t:\n",
       "   playerId:   2\n",
       "   roadId:     2\n",
       "   laneId:     -2\n",
       "   flags:      1\n",
       "   roadS:      +3.3588420867919922e+01\n",
       "   roadT:      -2.8862667083740234e+00\n",
       "   laneOffset: -6.3626670837402344e-01\n",
       "   hdgRel:     +0.0000000000000000e+00\n",
       "   pitchRel:   +0.0000000000000000e+00\n",
       "   rollRel:    +0.0000000000000000e+00\n",
       "   roadType:   1\n",
       "   spare1:     0\n",
       "   spare2:     0\n",
       "   pathS:      +0.0000000000000000e+00\n",
       ",RDB_ROAD_POS_t:\n",
       "   playerId:   3\n",
       "   roadId:     2\n",
       "   laneId:     1\n",
       "   flags:      1\n",
       "   roadS:      +4.5692737579345703e+01\n",
       "   roadT:      +1.9342041015625000e-01\n",
       "   laneOffset: -5.5657958984375000e-01\n",
       "   hdgRel:     +0.0000000000000000e+00\n",
       "   pitchRel:   +0.0000000000000000e+00\n",
       "   rollRel:    +0.0000000000000000e+00\n",
       "   roadType:   1\n",
       "   spare1:     0\n",
       "   spare2:     0\n",
       "   pathS:      +0.0000000000000000e+00\n",
       ",RDB_OBJECT_CFG_t:\n",
       "   id:       2\n",
       "   category: 1\n",
       "   thetype:  1\n",
       "   modelId:  1\n",
       "   name: ['B','\\0','\\0','\\0','\\0','\\0','\\0','\\0','\\0','\\0'  …  '\\0','\\0','\\0','\\0','\\0','\\0','\\0','\\0','\\0','\\0']\n",
       "   modelName: ['A','u','d','i',' ','A','3',' ','-',' '  …  '\\0','\\0','\\0','\\0','\\0','\\0','\\0','\\0','\\0','\\0']\n",
       "   fileName: ['1','\\0','\\0','\\0','\\0','\\0','\\0','\\0','\\0','\\0'  …  '\\0','\\0','\\0','\\0','\\0','\\0','\\0','\\0','\\0','\\0']\n",
       "   flags:    1\n",
       "   spare0:   0\n",
       "   spare1:   0\n",
       ",RDB_OBJECT_CFG_t:\n",
       "   id:       3\n",
       "   category: 1\n",
       "   thetype:  1\n",
       "   modelId:  1\n",
       "   name: ['C','\\0','\\0','\\0','\\0','\\0','\\0','\\0','\\0','\\0'  …  '\\0','\\0','\\0','\\0','\\0','\\0','\\0','\\0','\\0','\\0']\n",
       "   modelName: ['A','u','d','i',' ','A','3',' ','-',' '  …  '\\0','\\0','\\0','\\0','\\0','\\0','\\0','\\0','\\0','\\0']\n",
       "   fileName: ['1','\\0','\\0','\\0','\\0','\\0','\\0','\\0','\\0','\\0'  …  '\\0','\\0','\\0','\\0','\\0','\\0','\\0','\\0','\\0','\\0']\n",
       "   flags:    1\n",
       "   spare0:   0\n",
       "   spare1:   0\n",
       ",RDB_OBJECT_STATE_t:\n",
       "   base: RDB_OBJECT_STATE_BASE_t\n",
       "   ext:  RDB_OBJECT_STATE_EXT_t\n",
       ",RDB_OBJECT_STATE_t:\n",
       "   base: RDB_OBJECT_STATE_BASE_t\n",
       "   ext:  RDB_OBJECT_STATE_EXT_t\n",
       ",RDB_VEHICLE_SYSTEMS_t:\n",
       "   playerId:            2\n",
       "   lightMask:           0\n",
       "   steering:            +0.0000000000000000e+00\n",
       "   steeringWheelTorque: +0.0000000000000000e+00\n",
       "   accMask:             0\n",
       "   accSpeed:            0\n",
       "   batteryState:        0\n",
       "   batteryRate:         0\n",
       "   displayLightMask:    0\n",
       "   spare0:              0\n",
       "   spare:               (0, 0, 0, 0, 0)\n",
       ",RDB_VEHICLE_SYSTEMS_t:\n",
       "   playerId:            3\n",
       "   lightMask:           0\n",
       "   steering:            +0.0000000000000000e+00\n",
       "   steeringWheelTorque: +0.0000000000000000e+00\n",
       "   accMask:             0\n",
       "   accSpeed:            0\n",
       "   batteryState:        0\n",
       "   batteryRate:         0\n",
       "   displayLightMask:    0\n",
       "   spare0:              0\n",
       "   spare:               (0, 0, 0, 0, 0)\n",
       ",RDB_SENSOR_STATE_t:\n",
       "   id:             0\n",
       "   thetype:        2\n",
       "   hostCategory:   1\n",
       "   spare0:         0\n",
       "   hostId:         1\n",
       "   fovHV:          (0, 0)\n",
       "   clipNF:         (0, 32)\n",
       "   pos:            RDB_COORD_t\n",
       "   originCoordSys: RDB_COORD_t\n",
       "   spare:          (0, 0, 0, 0)\n",
       ",RDB_SENSOR_OBJECT_t:\n",
       "   category:  1\n",
       "   thetype:   1\n",
       "   flags:     3\n",
       "   id:        2\n",
       "   sensorId:  0\n",
       "   dist:      +1.7003446948762040e+01\n",
       "   sensorPos: RDB_COORD_t\n",
       "   occlusion: 0\n",
       "   spare0:    (0, 0, 0)\n",
       "   spare:     (0, 0, 0)\n",
       ",RDB_SENSOR_OBJECT_t:\n",
       "   category:  1\n",
       "   thetype:   1\n",
       "   flags:     3\n",
       "   id:        3\n",
       "   sensorId:  0\n",
       "   dist:      +2.8851657422460313e+01\n",
       "   sensorPos: RDB_COORD_t\n",
       "   occlusion: 0\n",
       "   spare0:    (0, 0, 0)\n",
       "   spare:     (0, 0, 0)\n",
       ",RDB_CAMERA_t:\n",
       "   id:         1\n",
       "   width:      320\n",
       "   height:     258\n",
       "   spare0:     0\n",
       "   clipNear:   +1.0000000000000000e+00\n",
       "   clipFar:    +1.5000000000000000e+03\n",
       "   focalX:     +1.1196152343750000e+03\n",
       "   focalY:     +1.1196152343750000e+03\n",
       "   principalX: +4.0000000000000000e+02\n",
       "   principalY: +3.0000000000000000e+02\n",
       "   pos:        RDB_COORD_t\n",
       "   spare1:     (0, 0, 0, 0)\n",
       ",RDB_ENVIRONMENT_t:\n",
       "   visibility:    +1.0000000000000000e+05\n",
       "   timeOfDay:     9ab0\n",
       "   brightness:    +9.6666663885116577e-01\n",
       "   precipitation: 0\n",
       "   cloudState:    1\n",
       "   flags:         0\n",
       "   spare1:        (0, 0, 0, 0, 0, 0, 0, 0)\n",
       ",RDB_END_OF_FRAME_t:\n",
       "])"
      ]
     },
     "execution_count": 3,
     "metadata": {},
     "output_type": "execute_result"
    }
   ],
   "source": [
    "message=read(UDP,VirtualTestDrive.RDB_Message) "
   ]
  },
  {
   "cell_type": "code",
   "execution_count": 4,
   "metadata": {
    "collapsed": true
   },
   "outputs": [],
   "source": [
    "close(UDP)"
   ]
  },
  {
   "cell_type": "markdown",
   "metadata": {},
   "source": [
    "## Test Record"
   ]
  },
  {
   "cell_type": "code",
   "execution_count": null,
   "metadata": {},
   "outputs": [],
   "source": [
    "connection = ViresConnection()"
   ]
  },
  {
   "cell_type": "code",
   "execution_count": null,
   "metadata": {},
   "outputs": [],
   "source": [
    "path=\"/home/eric/Xiaobai/Record\"\n",
    "name=\"testRecord\"\n",
    "payload=\"<Record stream=\\\"simulation\\\"><File path=\\\"\"*path*\"\\\" name=\\\"\"*name*\"\\\" overwrite=\\\"true\\\"/><Start/></Record>\"\n",
    "SCPmessage=SCPMessage(payload)\n",
    "write(connection.SCP, SCPmessage)"
   ]
  },
  {
   "cell_type": "code",
   "execution_count": null,
   "metadata": {},
   "outputs": [],
   "source": [
    "payload=\"<Record stream=\\\"simulation\\\"><Stop/></Record>\"\n",
    "SCPmessage=SCPMessage(payload)\n",
    "write(connection.SCP, SCPmessage)"
   ]
  },
  {
   "cell_type": "code",
   "execution_count": null,
   "metadata": {},
   "outputs": [],
   "source": [
    "payload=\"<Replay><File path=\\\"\"*path*\"\\\" name=\\\"\"*name*\"\\\"/><Convert format=\\\"CSV\\\"/></Replay>\"\n",
    "SCPmessage=SCPMessage(payload)\n",
    "write(connection.SCP, SCPmessage)"
   ]
  },
  {
   "cell_type": "code",
   "execution_count": null,
   "metadata": {},
   "outputs": [],
   "source": [
    "payload=\"<Replay><File path=\\\"\"*path*\"\\\" name=\\\"\"*name*\"\\\"/><Start loop=\\\"true\\\"/></Replay>\"\n",
    "SCPmessage=SCPMessage(payload)\n",
    "write(connection.SCP, SCPmessage)"
   ]
  },
  {
   "cell_type": "code",
   "execution_count": null,
   "metadata": {},
   "outputs": [],
   "source": [
    "payload=\"<Replay><File path=\\\"\"*path*\"\\\" name=\\\"\"*name*\"\\\"/><Stop/></Replay>\"\n",
    "SCPmessage=SCPMessage(payload)\n",
    "write(connection.SCP, SCPmessage)"
   ]
  },
  {
   "cell_type": "code",
   "execution_count": null,
   "metadata": {
    "collapsed": true
   },
   "outputs": [],
   "source": [
    "VirtualTestDrive.disconnect!(connection)"
   ]
  },
  {
   "cell_type": "code",
   "execution_count": null,
   "metadata": {
    "collapsed": true
   },
   "outputs": [],
   "source": []
  }
 ],
 "metadata": {
  "kernelspec": {
   "display_name": "Julia 0.5.0",
   "language": "julia",
   "name": "julia-0.5"
  },
  "language_info": {
   "file_extension": ".jl",
   "mimetype": "application/julia",
   "name": "julia",
   "version": "0.5.0"
  }
 },
 "nbformat": 4,
 "nbformat_minor": 2
}
