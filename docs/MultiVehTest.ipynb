{
 "cells": [
  {
   "cell_type": "code",
   "execution_count": null,
   "metadata": {
    "collapsed": false
   },
   "outputs": [],
   "source": [
    "using AutomotiveDrivingModels\n",
    "using AutoViz\n",
    "using Reactive, Interact\n",
    "using AutoUrban\n",
    "using VirtualTestDrive"
   ]
  },
  {
   "cell_type": "code",
   "execution_count": null,
   "metadata": {
    "collapsed": false
   },
   "outputs": [],
   "source": [
    "using Reactive, Interact\n",
    "#Need a same roadway in VTD\n",
    "scene = Frame(Entity{VehicleState, BicycleModel, Int},100)\n",
    "timeStep = 0.05\n",
    "models = Dict{Int, DriverModel}()\n",
    "roadway = gen_stadium_roadway(2)"
   ]
  },
  {
   "cell_type": "code",
   "execution_count": null,
   "metadata": {
    "collapsed": false
   },
   "outputs": [],
   "source": [
    "connection,entries=VirtualTestDrive.initialize();\n",
    "for i in 1:length(entries[3])\n",
    "    (x,y,heading,v)=(entries[3][i].base.pos.x,entries[3][i].base.pos.y,entries[3][i].base.pos.h,sqrt(entries[3][i].ext.speed.x^2+entries[3][i].ext.speed.y^2))\n",
    "    push!(scene,Entity(VehicleState(VecSE2(x,y,heading), roadway, v), \n",
    "        BicycleModel(VehicleDef(AgentClass.CAR, 4.826, 1.81)),i))\n",
    "    models[i]=MultiPtsTurningDriver(timeStep,v_max=5.0,v_min=0.0,turning_direction=1)\n",
    "    excute_action!(models[i],0.0,0,scene, roadway, i)\n",
    "end\n",
    "actions = get_actions!(Array(Any, length(scene)), scene, roadway, models)\n",
    "render(scene, roadway,cam=FitToContentCamera())"
   ]
  },
  {
   "cell_type": "code",
   "execution_count": null,
   "metadata": {
    "collapsed": false
   },
   "outputs": [],
   "source": [
    "entries"
   ]
  },
  {
   "cell_type": "code",
   "execution_count": null,
   "metadata": {
    "collapsed": false
   },
   "outputs": [],
   "source": [
    "function updateScene!(entries,scene)\n",
    "    actions_VTD = []\n",
    "    for i in 1:length(entries[3])\n",
    "        veh = scene[i]\n",
    "        (x,y,heading,v)=(entries[3][i].base.pos.x,entries[3][i].base.pos.y,entries[3][i].base.pos.h,sqrt(entries[3][i].ext.speed.x^2+entries[3][i].ext.speed.y^2))\n",
    "        posG = VecSE2(x,y,heading)\n",
    "        posF = Frenet(posG, roadway)\n",
    "        state = VehicleState(posG,posF,v)\n",
    "        scene[i] = Entity(state, veh.def, veh.id)\n",
    "        steering=entries[4][i].steering\n",
    "        acc=sqrt(entries[3][i].ext.accel.x^2+entries[3][i].ext.accel.y^2)\n",
    "        if entries[3][i].ext.accel.x*cos(heading)+entries[3][i].ext.accel.y*sin(heading)<0\n",
    "            acc=-acc\n",
    "        end  \n",
    "        push!(actions_VTD,AccelSteeringAngle(acc,steering))\n",
    "    end\n",
    "    tick!(scene,roadway,actions_VTD,timeStep)\n",
    "end"
   ]
  },
  {
   "cell_type": "code",
   "execution_count": null,
   "metadata": {
    "collapsed": false
   },
   "outputs": [],
   "source": [
    "function get_udp_entries(models)\n",
    "    udp_entries = Array(VirtualTestDrive.RDB_PACKAGE_ELEMENT,0)\n",
    "    for key = keys(models)\n",
    "        udp_entry=VirtualTestDrive.create_udp_entry(VirtualTestDrive.RDB_DRIVER_CTRL_t,convert(UInt32,key),\n",
    "            accelTgt=convert(Cfloat,models[key].siji.acc),steeringTgt=convert(Cfloat,models[key].siji.steer),\n",
    "            validityFlags=convert(UInt32,VirtualTestDrive.RDB_DRIVER_INPUT_VALIDITY_TGT_ACCEL | VirtualTestDrive.RDB_DRIVER_INPUT_VALIDITY_TGT_STEERING | VirtualTestDrive.RDB_DRIVER_INPUT_VALIDITY_ADD_ON))\n",
    "        push!(udp_entries,udp_entry)\n",
    "    end\n",
    "    #println(udp_entries)\n",
    "    return udp_entries\n",
    "end"
   ]
  },
  {
   "cell_type": "code",
   "execution_count": null,
   "metadata": {
    "collapsed": false,
    "scrolled": true
   },
   "outputs": [],
   "source": [
    "function drawsim(t)\n",
    "    udp_entries = get_udp_entries(models)\n",
    "    #print(udp_entries)\n",
    "    entries=VirtualTestDrive.processOneFrame_continuous(connection,udp_entries);\n",
    "    updateScene!(entries,scene)\n",
    "    for (i,veh) in enumerate(scene)\n",
    "        if veh.state.v < 5.0\n",
    "            excute_action!(models[i],5.0,0,scene, roadway, i)\n",
    "            AutomotiveDrivingModels.observe!(models[veh.id], scene, roadway, veh.id)\n",
    "        else\n",
    "            excute_action!(models[i],0.0,0,scene, roadway, i)\n",
    "            AutomotiveDrivingModels.observe!(models[veh.id], scene, roadway, veh.id)\n",
    "        end\n",
    "        AutomotiveDrivingModels.observe!(models[veh.id], scene, roadway, veh.id)\n",
    "    end\n",
    "    #render(scene, roadway,models,cam=SceneFollowCamera(10.0))\n",
    "    render(scene, roadway, models, cam=FitToContentCamera())\n",
    "end\n",
    "framerate=40\n",
    "ticks = fps(framerate)\n",
    "timestamps = map(_ -> time(), ticks)\n",
    "map(drawsim, timestamps)"
   ]
  },
  {
   "cell_type": "code",
   "execution_count": null,
   "metadata": {
    "collapsed": true
   },
   "outputs": [],
   "source": []
  }
 ],
 "metadata": {
  "kernelspec": {
   "display_name": "Julia 0.5.0",
   "language": "julia",
   "name": "julia-0.5"
  },
  "language_info": {
   "file_extension": ".jl",
   "mimetype": "application/julia",
   "name": "julia",
   "version": "0.5.0"
  }
 },
 "nbformat": 4,
 "nbformat_minor": 2
}
