{
 "cells": [
  {
   "cell_type": "code",
   "execution_count": 1,
   "metadata": {
    "collapsed": false
   },
   "outputs": [
    {
     "name": "stderr",
     "output_type": "stream",
     "text": [
      "\u001b[1m\u001b[31mWARNING: `@linux` is deprecated, use `@static is_linux()` instead\u001b[0m\n",
      " in depwarn(::String, ::Symbol) at ./deprecated.jl:64\n",
      " in @linux(::Any, ::Any) at ./deprecated.jl:484\n",
      " in include_from_node1(::String) at ./loading.jl:488 (repeats 2 times)\n",
      " in eval(::Module, ::Any) at ./boot.jl:234\n",
      " in require(::Symbol) at ./loading.jl:415\n",
      " in include_string(::String, ::String) at ./loading.jl:441\n",
      " in execute_request(::ZMQ.Socket, ::IJulia.Msg) at /home/eric/.julia/v0.5/IJulia/src/execute_request.jl:157\n",
      " in eventloop(::ZMQ.Socket) at /home/eric/.julia/v0.5/IJulia/src/eventloop.jl:8\n",
      " in (::IJulia.##13#19)() at ./task.jl:360\n",
      "while loading /home/eric/.julia/v0.5/VirtualTestDrive/src/system.jl, in expression starting on line 1\n"
     ]
    }
   ],
   "source": [
    "using VirtualTestDrive"
   ]
  },
  {
   "cell_type": "code",
   "execution_count": null,
   "metadata": {
    "collapsed": false
   },
   "outputs": [],
   "source": [
    "connection = ViresConnection()"
   ]
  },
  {
   "cell_type": "code",
   "execution_count": null,
   "metadata": {
    "collapsed": false
   },
   "outputs": [],
   "source": [
    "# VirtualTestDrive.disconnect!(connection)"
   ]
  },
  {
   "cell_type": "code",
   "execution_count": null,
   "metadata": {
    "collapsed": false
   },
   "outputs": [],
   "source": [
    "scenario = \"/home/eric/Downloads/VTD.2.0/Data/Projects/Default/Scenarios/trafficDemoPath.xml\"\n",
    "mode = :operation\n",
    "msg = SCPMessage(VirtualTestDrive.get_xml_simctrl_load_init(scenario, mode))\n",
    "write(connection.SCP, msg)"
   ]
  },
  {
   "cell_type": "code",
   "execution_count": null,
   "metadata": {
    "collapsed": false
   },
   "outputs": [],
   "source": [
    "connection = ViresConnection()\n",
    "completed = VirtualTestDrive.wait_for_packet_with_element(connection.SCP, \"Traffic\",\"ActionLaneChange\";timeout=100.0)"
   ]
  },
  {
   "cell_type": "code",
   "execution_count": null,
   "metadata": {
    "collapsed": false
   },
   "outputs": [],
   "source": [
    "connection = ViresConnection()\n",
    "completed = VirtualTestDrive.wait_for_packet_with_element(connection.SCP, \"SimCtrl\",\"Pause\";timeout=100.0)"
   ]
  },
  {
   "cell_type": "code",
   "execution_count": null,
   "metadata": {
    "collapsed": true
   },
   "outputs": [],
   "source": [
    "connection = ViresConnection()\n",
    "completed = VirtualTestDrive.wait_for_packet_with_element(connection.SCP, \"SimCtrl\",\"Sync\";timeout=100.0)"
   ]
  },
  {
   "cell_type": "code",
   "execution_count": null,
   "metadata": {
    "collapsed": false
   },
   "outputs": [],
   "source": [
    "write(connection.SCP,\"<Traffic><ActionLaneChange force=\\\"true\\\" actor=\\\"Ego\\\" direction=\\\"-1\\\" time=\\\"3\\\" force=\\\"true\\\" /></Traffic>\")"
   ]
  },
  {
   "cell_type": "code",
   "execution_count": null,
   "metadata": {
    "collapsed": false
   },
   "outputs": [],
   "source": [
    "payload=\"<Traffic><ActionLaneChange force=\\\"true\\\" actor=\\\"Ego\\\" direction=\\\"1\\\" time=\\\"3\\\" /></Traffic>\"\n",
    "message=SCPMessage(payload)"
   ]
  },
  {
   "cell_type": "code",
   "execution_count": null,
   "metadata": {
    "collapsed": false
   },
   "outputs": [],
   "source": [
    "payload=\"<Traffic><ActionLaneChange force=\\\"true\\\" actor=\\\"Ego\\\" direction=\\\"-1\\\" time=\\\"3\\\" /></Traffic>\"\n",
    "message=SCPMessage(payload)"
   ]
  },
  {
   "cell_type": "code",
   "execution_count": null,
   "metadata": {
    "collapsed": false
   },
   "outputs": [],
   "source": [
    "payload=\"<Traffic><ActionSpeedChange force=\\\"true\\\" actor=\\\"Ego\\\" target=\\\"20\\\" rate=\\\"5\\\" /></Traffic>\"\n",
    "message=SCPMessage(payload)"
   ]
  },
  {
   "cell_type": "code",
   "execution_count": null,
   "metadata": {
    "collapsed": false
   },
   "outputs": [],
   "source": [
    "payload=\"<Traffic><ActionSpeedChange force=\\\"true\\\" actor=\\\"Ego\\\" target=\\\"0\\\" rate=\\\"5\\\" /></Traffic>\"\n",
    "message=SCPMessage(payload)"
   ]
  },
  {
   "cell_type": "code",
   "execution_count": null,
   "metadata": {
    "collapsed": false
   },
   "outputs": [],
   "source": [
    "write(connection.SCP, message)"
   ]
  },
  {
   "cell_type": "code",
   "execution_count": null,
   "metadata": {
    "collapsed": true
   },
   "outputs": [],
   "source": []
  }
 ],
 "metadata": {
  "anaconda-cloud": {},
  "kernelspec": {
   "display_name": "Julia 0.5.0",
   "language": "julia",
   "name": "julia-0.5"
  },
  "language_info": {
   "file_extension": ".jl",
   "mimetype": "application/julia",
   "name": "julia",
   "version": "0.5.0"
  }
 },
 "nbformat": 4,
 "nbformat_minor": 1
}
