{
 "cells": [
  {
   "cell_type": "code",
   "execution_count": 1,
   "metadata": {
    "collapsed": false
   },
   "outputs": [
    {
     "name": "stderr",
     "output_type": "stream",
     "text": [
      "\u001b[1m\u001b[31mWARNING: `@linux` is deprecated, use `@static is_linux()` instead\u001b[0m\n",
      " in depwarn(::String, ::Symbol) at ./deprecated.jl:64\n",
      " in @linux(::Any, ::Any) at ./deprecated.jl:484\n",
      " in include_from_node1(::String) at ./loading.jl:488 (repeats 2 times)\n",
      " in eval(::Module, ::Any) at ./boot.jl:234\n",
      " in require(::Symbol) at ./loading.jl:415\n",
      " in include_string(::String, ::String) at ./loading.jl:441\n",
      " in execute_request(::ZMQ.Socket, ::IJulia.Msg) at /home/eric/.julia/v0.5/IJulia/src/execute_request.jl:157\n",
      " in eventloop(::ZMQ.Socket) at /home/eric/.julia/v0.5/IJulia/src/eventloop.jl:8\n",
      " in (::IJulia.##13#19)() at ./task.jl:360\n",
      "while loading /home/eric/.julia/v0.5/VirtualTestDrive/src/system.jl, in expression starting on line 1\n"
     ]
    }
   ],
   "source": [
    "using VirtualTestDrive"
   ]
  },
  {
   "cell_type": "code",
   "execution_count": null,
   "metadata": {
    "collapsed": false
   },
   "outputs": [],
   "source": [
    "connection=ViresConnection()"
   ]
  },
  {
   "cell_type": "code",
   "execution_count": null,
   "metadata": {
    "collapsed": false
   },
   "outputs": [],
   "source": [
    "message=read(connection.UDP,VirtualTestDrive.RDB_MSG_HDR_t)"
   ]
  },
  {
   "cell_type": "code",
   "execution_count": null,
   "metadata": {
    "collapsed": false
   },
   "outputs": [],
   "source": [
    "message=read(connection.UDP,VirtualTestDrive.RDB_Package)"
   ]
  },
  {
   "cell_type": "code",
   "execution_count": null,
   "metadata": {
    "collapsed": true
   },
   "outputs": [],
   "source": []
  },
  {
   "cell_type": "code",
   "execution_count": null,
   "metadata": {
    "collapsed": false
   },
   "outputs": [],
   "source": [
    "message=read(connection.SCP,VirtualTestDrive.SCPMessage)"
   ]
  },
  {
   "cell_type": "code",
   "execution_count": null,
   "metadata": {
    "collapsed": true
   },
   "outputs": [],
   "source": []
  },
  {
   "cell_type": "code",
   "execution_count": 2,
   "metadata": {
    "collapsed": false
   },
   "outputs": [
    {
     "data": {
      "text/plain": [
       "RDB_DRIVER_CTRL_t:\n",
       "   playerId:        1\n",
       "   steeringWheel:   +0.0000000000000000e+00\n",
       "   steeringSpeed:   +0.0000000000000000e+00\n",
       "   throttlePedal:   +0.0000000000000000e+00\n",
       "   brakePedal:      +0.0000000000000000e+00\n",
       "   clutchPedal:     +0.0000000000000000e+00\n",
       "   accelTgt:        +1.0000000000000000e+00\n",
       "   steeringTgt:     +0.0000000000000000e+00\n",
       "   curvatureTgt:    +0.0000000000000000e+00\n",
       "   steeringTorque:  +0.0000000000000000e+00\n",
       "   engineTorqueTgt: +0.0000000000000000e+00\n",
       "   speedTgt:        +0.0000000000000000e+00\n",
       "   gear:            0\n",
       "   sourceId:        0\n",
       "   spare0:          0\n",
       "   validityFlags:   0\n",
       "   flags:           0\n",
       "   mockupInput0:    0\n",
       "   mockupInput1:    0\n",
       "   mockupInput2:    0\n",
       "   spare:           0\n"
      ]
     },
     "execution_count": 2,
     "metadata": {},
     "output_type": "execute_result"
    }
   ],
   "source": [
    "udp_entry=VirtualTestDrive.create_udp_entry(VirtualTestDrive.RDB_DRIVER_CTRL_t,convert(UInt32,1),accelTgt=convert(Cfloat,1))"
   ]
  },
  {
   "cell_type": "code",
   "execution_count": 3,
   "metadata": {
    "collapsed": false
   },
   "outputs": [
    {
     "ename": "LoadError",
     "evalue": "unknown RDB package rdbtype VirtualTestDrive.RDB_DRIVER_CTRL_t",
     "output_type": "error",
     "traceback": [
      "unknown RDB package rdbtype VirtualTestDrive.RDB_DRIVER_CTRL_t",
      "",
      " in rdb_type_to_pkg_id(::Type{T}) at /home/eric/.julia/v0.5/VirtualTestDrive/src/rdb_definitions.jl:3539",
      " in create_udp_entry_header(::Array{VirtualTestDrive.RDB_DRIVER_CTRL_t,1}, ::UInt16) at /home/eric/.julia/v0.5/VirtualTestDrive/src/rdb_package_gen.jl:25",
      " in create_udp_entry_header(::Array{VirtualTestDrive.RDB_DRIVER_CTRL_t,1}) at /home/eric/.julia/v0.5/VirtualTestDrive/src/rdb_package_gen.jl:22"
     ]
    }
   ],
   "source": [
    "entry_header=VirtualTestDrive.create_udp_entry_header([udp_entry])"
   ]
  },
  {
   "cell_type": "code",
   "execution_count": null,
   "metadata": {
    "collapsed": true
   },
   "outputs": [],
   "source": [
    "write_udp_packet(connection.UDP, udp_entry, frameNo::Integer, simTime::Real, flags::UInt16=0x0000)"
   ]
  },
  {
   "cell_type": "code",
   "execution_count": null,
   "metadata": {
    "collapsed": true
   },
   "outputs": [],
   "source": []
  }
 ],
 "metadata": {
  "anaconda-cloud": {},
  "kernelspec": {
   "display_name": "Julia 0.5.0",
   "language": "julia",
   "name": "julia-0.5"
  },
  "language_info": {
   "file_extension": ".jl",
   "mimetype": "application/julia",
   "name": "julia",
   "version": "0.5.0"
  }
 },
 "nbformat": 4,
 "nbformat_minor": 1
}
